{
  "cells": [
    {
      "cell_type": "markdown",
      "metadata": {
        "id": "view-in-github",
        "colab_type": "text"
      },
      "source": [
        "<a href=\"https://colab.research.google.com/github/simulate111/MNIST/blob/main/MNIST_colab.ipynb\" target=\"_parent\"><img src=\"https://colab.research.google.com/assets/colab-badge.svg\" alt=\"Open In Colab\"/></a>"
      ]
    },
    {
      "cell_type": "markdown",
      "id": "6834f81c-e21f-4f1d-af76-76913b25e676",
      "metadata": {
        "id": "6834f81c-e21f-4f1d-af76-76913b25e676"
      },
      "source": [
        "## Mnist database"
      ]
    },
    {
      "cell_type": "code",
      "execution_count": 1,
      "id": "1f83a181-faa6-45d8-93ff-ece8151c06aa",
      "metadata": {
        "tags": [],
        "id": "1f83a181-faa6-45d8-93ff-ece8151c06aa"
      },
      "outputs": [],
      "source": [
        "#LIbraries\n",
        "import pandas as pd\n",
        "import tensorflow as tf\n",
        "import matplotlib.pyplot as plt\n",
        "import tensorflow_datasets as tfds\n",
        "from tensorflow.keras import layers, models"
      ]
    },
    {
      "cell_type": "markdown",
      "id": "a63d34dc-8f76-456d-b2c0-2e31dae9b5ac",
      "metadata": {
        "id": "a63d34dc-8f76-456d-b2c0-2e31dae9b5ac"
      },
      "source": [
        "### 1. Load the MNSIT data set and split into training and test sets."
      ]
    },
    {
      "cell_type": "code",
      "execution_count": null,
      "id": "77842961-652c-496e-abe1-c39fec7affd0",
      "metadata": {
        "tags": [],
        "colab": {
          "base_uri": "https://localhost:8080/",
          "height": 118,
          "referenced_widgets": [
            "f5cf061adc75453ca1d2e13d001d271a",
            "1a5b27bbe73e41409da7a224b0199ca7",
            "5ea747523c974ec58d69346ceb016c69",
            "6870fe65d95a478a96285ab7190c5f6b",
            "b50d6f39101940dfb110f7a2bb3e6cc5",
            "c5e89addd8004ab38f737a6a9576000a",
            "3ba5c72c52294a1298c1cf3495364e65",
            "b216a0a58edf4953a1501eef5e9231be",
            "9b362c8a450647baa584cdfd6756a97a",
            "1f35d27594fa49a7993a6ac5bd1a7475",
            "85c8e0fe42d1425ab4568da152c6c05e"
          ]
        },
        "id": "77842961-652c-496e-abe1-c39fec7affd0",
        "outputId": "8944e215-2b8b-4dc8-8149-f4fc86564e20"
      },
      "outputs": [
        {
          "output_type": "stream",
          "name": "stdout",
          "text": [
            "Downloading and preparing dataset 11.06 MiB (download: 11.06 MiB, generated: 21.00 MiB, total: 32.06 MiB) to /root/tensorflow_datasets/mnist/3.0.1...\n"
          ]
        },
        {
          "output_type": "display_data",
          "data": {
            "text/plain": [
              "Dl Completed...:   0%|          | 0/5 [00:00<?, ? file/s]"
            ],
            "application/vnd.jupyter.widget-view+json": {
              "version_major": 2,
              "version_minor": 0,
              "model_id": "f5cf061adc75453ca1d2e13d001d271a"
            }
          },
          "metadata": {}
        },
        {
          "output_type": "stream",
          "name": "stdout",
          "text": [
            "Dataset mnist downloaded and prepared to /root/tensorflow_datasets/mnist/3.0.1. Subsequent calls will reuse this data.\n",
            "Number of training examples: 60000\n",
            "Number of test examples: 10000\n"
          ]
        }
      ],
      "source": [
        "(ds_train, ds_test), ds_info = tfds.load(\n",
        "    'mnist',\n",
        "    split=['train', 'test'],\n",
        "    shuffle_files=True,\n",
        "    as_supervised=True,\n",
        "    with_info=True,\n",
        ")\n",
        "\n",
        "# Get the number of examples in the training and test sets\n",
        "num_train_examples = ds_info.splits['train'].num_examples\n",
        "num_test_examples = ds_info.splits['test'].num_examples\n",
        "\n",
        "print(\"Number of training examples:\", num_train_examples)\n",
        "print(\"Number of test examples:\", num_test_examples)"
      ]
    },
    {
      "cell_type": "code",
      "execution_count": null,
      "id": "07c60295-f7cd-4983-862c-1e5b0aaf920f",
      "metadata": {
        "tags": [],
        "colab": {
          "base_uri": "https://localhost:8080/",
          "height": 192
        },
        "id": "07c60295-f7cd-4983-862c-1e5b0aaf920f",
        "outputId": "a2c85dd3-4d99-4830-f34e-3757dcf49b6c"
      },
      "outputs": [
        {
          "output_type": "display_data",
          "data": {
            "text/plain": [
              "<Figure size 1000x300 with 5 Axes>"
            ],
            "image/png": "[encoded data removed]"
          },
          "metadata": {}
        }
      ],
      "source": [
        "# Function to display images from the dataset\n",
        "def show_images(dataset, num_images=5):\n",
        "    plt.figure(figsize=(10, 3))\n",
        "    for i, (image, label) in enumerate(dataset.take(num_images)):\n",
        "        plt.subplot(1, num_images, i + 1)\n",
        "        plt.imshow(image[:, :, 0], cmap='gray')\n",
        "        plt.title(f\"Label: {label.numpy()}\")\n",
        "        plt.axis('off')\n",
        "    plt.show()\n",
        "\n",
        "# Show some images from the training dataset\n",
        "show_images(ds_train)"
      ]
    },
    {
      "cell_type": "code",
      "execution_count": null,
      "id": "3a8bcfea-bd2b-4bda-aed8-c5a17c404757",
      "metadata": {
        "tags": [],
        "id": "3a8bcfea-bd2b-4bda-aed8-c5a17c404757"
      },
      "outputs": [],
      "source": [
        "#This function takes an image and its label, normalizes the pixel values to be in the range [0, 1], and returns the normalized image along with the original label.\n",
        "def normalize_img(image, label):\n",
        "  \"\"\"Normalizes images: `uint8` -> `float32`.\"\"\"\n",
        "  return tf.cast(image, tf.float32) / 255., label\n",
        "\n",
        "ds_train = ds_train.map(\n",
        "    normalize_img, num_parallel_calls=tf.data.AUTOTUNE)\n",
        "ds_train = ds_train.cache()\n",
        "ds_train = ds_train.shuffle(ds_info.splits['train'].num_examples)\n",
        "ds_train = ds_train.batch(128)\n",
        "ds_train = ds_train.prefetch(tf.data.AUTOTUNE)"
      ]
    },
    {
      "cell_type": "code",
      "execution_count": null,
      "id": "64cedf07-6ba4-49e9-a2be-075e8b8dcf70",
      "metadata": {
        "tags": [],
        "id": "64cedf07-6ba4-49e9-a2be-075e8b8dcf70"
      },
      "outputs": [],
      "source": [
        "ds_test = ds_test.map(\n",
        "    normalize_img, num_parallel_calls=tf.data.AUTOTUNE)\n",
        "ds_test = ds_test.batch(128)\n",
        "ds_test = ds_test.cache()\n",
        "ds_test = ds_test.prefetch(tf.data.AUTOTUNE)"
      ]
    },
    {
      "cell_type": "markdown",
      "id": "7a49145e-d0d4-4dc8-9229-b18095a2d981",
      "metadata": {
        "tags": [],
        "id": "7a49145e-d0d4-4dc8-9229-b18095a2d981"
      },
      "source": [
        "### 2. Build a CNN with at least one convolutional layer and 2 or more hidden layers and a dense output layer for 10 classes."
      ]
    },
    {
      "cell_type": "code",
      "execution_count": null,
      "id": "ca0de95e-a3e6-43b6-8f9f-38ca5aed8889",
      "metadata": {
        "tags": [],
        "colab": {
          "base_uri": "https://localhost:8080/"
        },
        "id": "ca0de95e-a3e6-43b6-8f9f-38ca5aed8889",
        "outputId": "6cd23613-2c54-4192-f121-cbbb7d34d8b5"
      },
      "outputs": [
        {
          "output_type": "stream",
          "name": "stdout",
          "text": [
            "Model: \"sequential\"\n",
            "_________________________________________________________________\n",
            " Layer (type)                Output Shape              Param #   \n",
            "=================================================================\n",
            " conv2d (Conv2D)             (None, 26, 26, 32)        320       \n",
            "                                                                 \n",
            " conv2d_1 (Conv2D)           (None, 24, 24, 32)        9248      \n",
            "                                                                 \n",
            " flatten (Flatten)           (None, 18432)             0         \n",
            "                                                                 \n",
            " dense (Dense)               (None, 64)                1179712   \n",
            "                                                                 \n",
            " dense_1 (Dense)             (None, 10)                650       \n",
            "                                                                 \n",
            "=================================================================\n",
            "Total params: 1189930 (4.54 MB)\n",
            "Trainable params: 1189930 (4.54 MB)\n",
            "Non-trainable params: 0 (0.00 Byte)\n",
            "_________________________________________________________________\n"
          ]
        }
      ],
      "source": [
        "model = models.Sequential([\n",
        "    layers.Conv2D(32, (3, 3), activation='relu', input_shape=(28, 28, 1)),\n",
        "    layers.Conv2D(32, (3, 3), activation='relu'),\n",
        "    layers.Flatten(),\n",
        "    layers.Dense(64, activation='relu'),\n",
        "    layers.Dense(10, activation='softmax')  # Output dense layer for 10 classes\n",
        "])\n",
        "\n",
        "# Compile the model\n",
        "model.compile(optimizer='adam',\n",
        "              loss='sparse_categorical_crossentropy',\n",
        "              metrics=['accuracy'])\n",
        "\n",
        "# Print the model summary\n",
        "model.summary()"
      ]
    },
    {
      "cell_type": "markdown",
      "id": "9030dfc8-9046-4215-bb25-62720a7577dd",
      "metadata": {
        "tags": [],
        "id": "9030dfc8-9046-4215-bb25-62720a7577dd"
      },
      "source": [
        "### 3. Train your CNN on the MNIST training set (extracted in step 1)."
      ]
    },
    {
      "cell_type": "code",
      "execution_count": null,
      "id": "880ce373-7b31-4bb0-aaac-43dd7ea3d856",
      "metadata": {
        "tags": [],
        "colab": {
          "base_uri": "https://localhost:8080/"
        },
        "id": "880ce373-7b31-4bb0-aaac-43dd7ea3d856",
        "outputId": "74ab62b5-b7a6-49a5-a683-1d08ef249ec6"
      },
      "outputs": [
        {
          "output_type": "stream",
          "name": "stdout",
          "text": [
            "Epoch 1/2\n",
            "469/469 [==============================] - 15s 10ms/step - loss: 0.1683 - accuracy: 0.9493 - val_loss: 0.0538 - val_accuracy: 0.9832\n",
            "Epoch 2/2\n",
            "469/469 [==============================] - 4s 8ms/step - loss: 0.0499 - accuracy: 0.9844 - val_loss: 0.0432 - val_accuracy: 0.9850\n"
          ]
        }
      ],
      "source": [
        "# Assuming ds_train and ds_test are your preprocessed datasets\n",
        "\n",
        "\n",
        "\n",
        "# Without repeating the training dataset\n",
        "history = model.fit(ds_train, epochs=2, validation_data=ds_test)\n",
        "\n"
      ]
    },
    {
      "cell_type": "markdown",
      "id": "ccabb000-808e-4675-b550-774d7fe168b8",
      "metadata": {
        "tags": [],
        "id": "ccabb000-808e-4675-b550-774d7fe168b8"
      },
      "source": [
        "### 4. Evaluate your trained model using the test data set. What is the accuracy of your model?"
      ]
    },
    {
      "cell_type": "code",
      "execution_count": null,
      "id": "c6d67187-a572-4a39-8655-dcef1ba25875",
      "metadata": {
        "tags": [],
        "colab": {
          "base_uri": "https://localhost:8080/"
        },
        "id": "c6d67187-a572-4a39-8655-dcef1ba25875",
        "outputId": "f0ca3073-1354-4cd1-c7b5-827ecb30a930"
      },
      "outputs": [
        {
          "output_type": "stream",
          "name": "stdout",
          "text": [
            "79/79 [==============================] - 0s 4ms/step - loss: 0.0432 - accuracy: 0.9850\n",
            "Test Accuracy: 0.9850000143051147\n"
          ]
        }
      ],
      "source": [
        "# Evaluate the model on the test dataset\n",
        "test_loss, test_accuracy = model.evaluate(ds_test)\n",
        "\n",
        "# Print the test accuracy\n",
        "print(\"Test Accuracy:\", test_accuracy)"
      ]
    },
    {
      "cell_type": "markdown",
      "id": "cd84342d-eed0-4cc0-9c2e-425c80514293",
      "metadata": {
        "tags": [],
        "id": "cd84342d-eed0-4cc0-9c2e-425c80514293"
      },
      "source": [
        "### 5. Do the following experiments to improve accuracy:\n",
        "- increase the size and depth of the inner layers, what is the effect on the model accuracy?"
      ]
    },
    {
      "cell_type": "code",
      "execution_count": null,
      "id": "ea0bf135-034f-4c42-8301-d1be617d67d4",
      "metadata": {
        "colab": {
          "base_uri": "https://localhost:8080/"
        },
        "id": "ea0bf135-034f-4c42-8301-d1be617d67d4",
        "outputId": "774d14c4-0614-4b62-dfa9-1db274e8be24"
      },
      "outputs": [
        {
          "output_type": "stream",
          "name": "stdout",
          "text": [
            "Model with 3 hidden layers and filter size (3, 3):\n",
            "Epoch 1/2\n",
            "469/469 [==============================] - 6s 8ms/step - loss: 0.2149 - accuracy: 0.9346 - val_loss: 0.0631 - val_accuracy: 0.9801\n",
            "Epoch 2/2\n",
            "469/469 [==============================] - 4s 9ms/step - loss: 0.0582 - accuracy: 0.9822 - val_loss: 0.0568 - val_accuracy: 0.9817\n",
            "79/79 [==============================] - 0s 3ms/step - loss: 0.0568 - accuracy: 0.9817\n",
            "Test Loss: 0.056772779673337936, Test Accuracy: 0.9817000031471252\n",
            "\n",
            "==================================================\n",
            "\n",
            "Model with 3 hidden layers and filter size (5, 5):\n",
            "Epoch 1/2\n"
          ]
        },
        {
          "output_type": "stream",
          "name": "stderr",
          "text": [
            "<ipython-input-11-133a6281ad94>:44: FutureWarning: The frame.append method is deprecated and will be removed from pandas in a future version. Use pandas.concat instead.\n",
            "  results_df = results_df.append({'Num Hidden Layers': num_hidden_layers,\n"
          ]
        },
        {
          "output_type": "stream",
          "name": "stdout",
          "text": [
            "469/469 [==============================] - 6s 8ms/step - loss: 0.2093 - accuracy: 0.9355 - val_loss: 0.0522 - val_accuracy: 0.9839\n",
            "Epoch 2/2\n",
            "469/469 [==============================] - 4s 8ms/step - loss: 0.0527 - accuracy: 0.9836 - val_loss: 0.0444 - val_accuracy: 0.9856\n",
            "79/79 [==============================] - 0s 3ms/step - loss: 0.0444 - accuracy: 0.9856\n",
            "Test Loss: 0.04441919922828674, Test Accuracy: 0.9855999946594238\n",
            "\n",
            "==================================================\n",
            "\n",
            "Model with 4 hidden layers and filter size (3, 3):\n",
            "Epoch 1/2\n"
          ]
        },
        {
          "output_type": "stream",
          "name": "stderr",
          "text": [
            "<ipython-input-11-133a6281ad94>:44: FutureWarning: The frame.append method is deprecated and will be removed from pandas in a future version. Use pandas.concat instead.\n",
            "  results_df = results_df.append({'Num Hidden Layers': num_hidden_layers,\n"
          ]
        },
        {
          "output_type": "stream",
          "name": "stdout",
          "text": [
            "469/469 [==============================] - 6s 8ms/step - loss: 0.2142 - accuracy: 0.9339 - val_loss: 0.0755 - val_accuracy: 0.9756\n",
            "Epoch 2/2\n",
            "469/469 [==============================] - 4s 8ms/step - loss: 0.0564 - accuracy: 0.9828 - val_loss: 0.0489 - val_accuracy: 0.9841\n",
            "79/79 [==============================] - 0s 3ms/step - loss: 0.0489 - accuracy: 0.9841\n",
            "Test Loss: 0.048885196447372437, Test Accuracy: 0.9840999841690063\n",
            "\n",
            "==================================================\n",
            "\n",
            "Model with 4 hidden layers and filter size (5, 5):\n",
            "Epoch 1/2\n"
          ]
        },
        {
          "output_type": "stream",
          "name": "stderr",
          "text": [
            "<ipython-input-11-133a6281ad94>:44: FutureWarning: The frame.append method is deprecated and will be removed from pandas in a future version. Use pandas.concat instead.\n",
            "  results_df = results_df.append({'Num Hidden Layers': num_hidden_layers,\n"
          ]
        },
        {
          "output_type": "stream",
          "name": "stdout",
          "text": [
            "469/469 [==============================] - 6s 8ms/step - loss: 0.2050 - accuracy: 0.9378 - val_loss: 0.0558 - val_accuracy: 0.9822\n",
            "Epoch 2/2\n",
            "469/469 [==============================] - 4s 8ms/step - loss: 0.0540 - accuracy: 0.9833 - val_loss: 0.0427 - val_accuracy: 0.9866\n",
            "79/79 [==============================] - 0s 5ms/step - loss: 0.0427 - accuracy: 0.9866\n",
            "Test Loss: 0.0427364744246006, Test Accuracy: 0.9865999817848206\n",
            "\n",
            "==================================================\n",
            "\n",
            "  Num Hidden Layers Filter Size  Test Accuracy\n",
            "0                 3      (3, 3)         0.9817\n",
            "1                 3      (5, 5)         0.9856\n",
            "2                 4      (3, 3)         0.9841\n",
            "3                 4      (5, 5)         0.9866\n"
          ]
        },
        {
          "output_type": "stream",
          "name": "stderr",
          "text": [
            "<ipython-input-11-133a6281ad94>:44: FutureWarning: The frame.append method is deprecated and will be removed from pandas in a future version. Use pandas.concat instead.\n",
            "  results_df = results_df.append({'Num Hidden Layers': num_hidden_layers,\n"
          ]
        }
      ],
      "source": [
        "import pandas as pd\n",
        "\n",
        "# Create an empty DataFrame to store the results\n",
        "results_df = pd.DataFrame(columns=['Num Hidden Layers', 'Filter Size', 'Test Accuracy'])\n",
        "\n",
        "layer_variations = [3, 4]\n",
        "filter_sizes = [(3, 3), (5, 5)]  # Experiment with filter sizes (you can add more variations)\n",
        "\n",
        "for num_hidden_layers in layer_variations:\n",
        "    for filter_size in filter_sizes:\n",
        "        # Create the model with the specified number of hidden layers and filter size\n",
        "        model = models.Sequential([\n",
        "            layers.Conv2D(32, filter_size, activation='relu', input_shape=(28, 28, 1)),\n",
        "            layers.Conv2D(32, filter_size, activation='relu'),\n",
        "            layers.Flatten(),\n",
        "        ])\n",
        "\n",
        "        # Add hidden layers\n",
        "        for _ in range(num_hidden_layers):\n",
        "            model.add(layers.Dense(64, activation='relu'))\n",
        "\n",
        "        # Output layer\n",
        "        model.add(layers.Dense(10, activation='softmax'))\n",
        "\n",
        "        # Compile the model\n",
        "        model.compile(optimizer='adam',\n",
        "                      loss='sparse_categorical_crossentropy',\n",
        "                      metrics=['accuracy'])\n",
        "\n",
        "        # Print the model summary\n",
        "        print(f\"Model with {num_hidden_layers} hidden layers and filter size {filter_size}:\")\n",
        "        #model.summary()\n",
        "\n",
        "        # Assuming ds_train and ds_test are your preprocessed datasets\n",
        "        # Without repeating the training dataset\n",
        "        history = model.fit(ds_train, epochs=2, validation_data=ds_test, verbose=1)\n",
        "\n",
        "        # Evaluate the model on the test set\n",
        "        test_loss, test_accuracy = model.evaluate(ds_test)\n",
        "        print(f'Test Loss: {test_loss}, Test Accuracy: {test_accuracy}')\n",
        "        print(\"\\n\" + \"=\"*50 + \"\\n\")\n",
        "\n",
        "        # Append the results to the DataFrame\n",
        "        results_df = results_df.append({'Num Hidden Layers': num_hidden_layers,\n",
        "                                        'Filter Size': filter_size,\n",
        "                                        'Test Accuracy': test_accuracy}, ignore_index=True)\n",
        "\n",
        "# Display the final DataFrame\n",
        "print(results_df)\n"
      ]
    },
    {
      "cell_type": "markdown",
      "id": "88ca1047-0d22-431b-9159-1fc1f8666a2e",
      "metadata": {
        "tags": [],
        "id": "88ca1047-0d22-431b-9159-1fc1f8666a2e"
      },
      "source": [
        "- experiment with different activation functions in the inner layers (relu, sigmoid, softmask, etc), see the list of keras activation functions at https://keras.io/api/layers/activations/"
      ]
    },
    {
      "cell_type": "code",
      "execution_count": null,
      "id": "750b492b-2c30-44b6-8fc4-2df7d4dbe6dd",
      "metadata": {
        "tags": [],
        "colab": {
          "base_uri": "https://localhost:8080/"
        },
        "id": "750b492b-2c30-44b6-8fc4-2df7d4dbe6dd",
        "outputId": "9753913f-e243-4c6a-eca2-23c9d09e2421"
      },
      "outputs": [
        {
          "output_type": "stream",
          "name": "stdout",
          "text": [
            "\n",
            "Training with activation function: relu\n",
            "Epoch 1/2\n",
            "469/469 [==============================] - 5s 8ms/step - loss: 0.1694 - accuracy: 0.9493 - val_loss: 0.0633 - val_accuracy: 0.9791\n",
            "Epoch 2/2\n",
            "469/469 [==============================] - 3s 7ms/step - loss: 0.0490 - accuracy: 0.9850 - val_loss: 0.0457 - val_accuracy: 0.9841\n",
            "79/79 [==============================] - 0s 3ms/step - loss: 0.0457 - accuracy: 0.9841\n",
            "Test Loss: 0.04573347792029381, Test Accuracy: 0.9840999841690063\n",
            "\n",
            "Training with activation function: sigmoid\n",
            "Epoch 1/2\n"
          ]
        },
        {
          "output_type": "stream",
          "name": "stderr",
          "text": [
            "<ipython-input-12-d065a520580c>:32: FutureWarning: The frame.append method is deprecated and will be removed from pandas in a future version. Use pandas.concat instead.\n",
            "  results_df = results_df.append({'Activation Function': activation,\n"
          ]
        },
        {
          "output_type": "stream",
          "name": "stdout",
          "text": [
            "469/469 [==============================] - 6s 8ms/step - loss: 2.3327 - accuracy: 0.1086 - val_loss: 2.3030 - val_accuracy: 0.1135\n",
            "Epoch 2/2\n",
            "469/469 [==============================] - 5s 10ms/step - loss: 2.3026 - accuracy: 0.1100 - val_loss: 2.3019 - val_accuracy: 0.1135\n",
            "79/79 [==============================] - 0s 3ms/step - loss: 2.3019 - accuracy: 0.1135\n",
            "Test Loss: 2.301870822906494, Test Accuracy: 0.11349999904632568\n",
            "\n",
            "Training with activation function: softmax\n",
            "Epoch 1/2\n"
          ]
        },
        {
          "output_type": "stream",
          "name": "stderr",
          "text": [
            "<ipython-input-12-d065a520580c>:32: FutureWarning: The frame.append method is deprecated and will be removed from pandas in a future version. Use pandas.concat instead.\n",
            "  results_df = results_df.append({'Activation Function': activation,\n"
          ]
        },
        {
          "output_type": "stream",
          "name": "stdout",
          "text": [
            "469/469 [==============================] - 6s 10ms/step - loss: 2.2155 - accuracy: 0.1662 - val_loss: 2.0692 - val_accuracy: 0.2044\n",
            "Epoch 2/2\n",
            "469/469 [==============================] - 4s 9ms/step - loss: 1.9977 - accuracy: 0.2029 - val_loss: 1.9410 - val_accuracy: 0.2048\n",
            "79/79 [==============================] - 0s 4ms/step - loss: 1.9410 - accuracy: 0.2048\n",
            "Test Loss: 1.9410066604614258, Test Accuracy: 0.20479999482631683\n",
            "\n",
            "Training with activation function: tanh\n",
            "Epoch 1/2\n"
          ]
        },
        {
          "output_type": "stream",
          "name": "stderr",
          "text": [
            "<ipython-input-12-d065a520580c>:32: FutureWarning: The frame.append method is deprecated and will be removed from pandas in a future version. Use pandas.concat instead.\n",
            "  results_df = results_df.append({'Activation Function': activation,\n"
          ]
        },
        {
          "output_type": "stream",
          "name": "stdout",
          "text": [
            "469/469 [==============================] - 5s 7ms/step - loss: 0.2681 - accuracy: 0.9234 - val_loss: 0.2009 - val_accuracy: 0.9419\n",
            "Epoch 2/2\n",
            "469/469 [==============================] - 3s 7ms/step - loss: 0.1772 - accuracy: 0.9483 - val_loss: 0.1539 - val_accuracy: 0.9542\n",
            "79/79 [==============================] - 0s 5ms/step - loss: 0.1539 - accuracy: 0.9542\n",
            "Test Loss: 0.15393991768360138, Test Accuracy: 0.954200029373169\n",
            "\n",
            "Training with activation function: softplus\n",
            "Epoch 1/2\n"
          ]
        },
        {
          "output_type": "stream",
          "name": "stderr",
          "text": [
            "<ipython-input-12-d065a520580c>:32: FutureWarning: The frame.append method is deprecated and will be removed from pandas in a future version. Use pandas.concat instead.\n",
            "  results_df = results_df.append({'Activation Function': activation,\n"
          ]
        },
        {
          "output_type": "stream",
          "name": "stdout",
          "text": [
            "469/469 [==============================] - 5s 8ms/step - loss: 2.2270 - accuracy: 0.2123 - val_loss: 0.6818 - val_accuracy: 0.7805\n",
            "Epoch 2/2\n",
            "469/469 [==============================] - 4s 7ms/step - loss: 0.4040 - accuracy: 0.8804 - val_loss: 0.2840 - val_accuracy: 0.9193\n",
            "79/79 [==============================] - 0s 3ms/step - loss: 0.2840 - accuracy: 0.9193\n",
            "Test Loss: 0.28398072719573975, Test Accuracy: 0.9193000197410583\n",
            "\n",
            "Training with activation function: leaky_relu\n",
            "Epoch 1/2\n"
          ]
        },
        {
          "output_type": "stream",
          "name": "stderr",
          "text": [
            "<ipython-input-12-d065a520580c>:32: FutureWarning: The frame.append method is deprecated and will be removed from pandas in a future version. Use pandas.concat instead.\n",
            "  results_df = results_df.append({'Activation Function': activation,\n"
          ]
        },
        {
          "output_type": "stream",
          "name": "stdout",
          "text": [
            "469/469 [==============================] - 5s 8ms/step - loss: 0.1812 - accuracy: 0.9466 - val_loss: 0.0582 - val_accuracy: 0.9814\n",
            "Epoch 2/2\n",
            "469/469 [==============================] - 3s 7ms/step - loss: 0.0545 - accuracy: 0.9832 - val_loss: 0.0487 - val_accuracy: 0.9837\n",
            "79/79 [==============================] - 0s 4ms/step - loss: 0.0487 - accuracy: 0.9837\n",
            "Test Loss: 0.04870515689253807, Test Accuracy: 0.9836999773979187\n",
            "  Activation Function  Test Accuracy\n",
            "0                relu         0.9841\n",
            "1             sigmoid         0.1135\n",
            "2             softmax         0.2048\n",
            "3                tanh         0.9542\n",
            "4            softplus         0.9193\n",
            "5          leaky_relu         0.9837\n"
          ]
        },
        {
          "output_type": "stream",
          "name": "stderr",
          "text": [
            "<ipython-input-12-d065a520580c>:32: FutureWarning: The frame.append method is deprecated and will be removed from pandas in a future version. Use pandas.concat instead.\n",
            "  results_df = results_df.append({'Activation Function': activation,\n"
          ]
        }
      ],
      "source": [
        "\n",
        "# Create an empty DataFrame to store the results\n",
        "results_df = pd.DataFrame(columns=['Activation Function', 'Test Accuracy'])\n",
        "\n",
        "activations_to_try = ['relu', 'sigmoid', 'softmax', 'tanh', 'softplus', 'leaky_relu']\n",
        "\n",
        "for activation in activations_to_try:\n",
        "    print(f\"\\nTraining with activation function: {activation}\")\n",
        "\n",
        "    model = models.Sequential([\n",
        "        layers.Conv2D(32, kernel_size=(3, 3), input_shape=(28, 28, 1)),\n",
        "        layers.Activation(activation),\n",
        "        layers.Conv2D(32, kernel_size=(3, 3)),\n",
        "        layers.Activation(activation),\n",
        "        layers.Flatten(),\n",
        "        layers.Dense(64, activation=activation),\n",
        "        layers.Dense(10, activation='softmax')  # Output dense layer for 10 classes\n",
        "    ])\n",
        "\n",
        "    # Compile the model\n",
        "    model.compile(optimizer='adam',\n",
        "                  loss='sparse_categorical_crossentropy',\n",
        "                  metrics=['accuracy'])\n",
        "\n",
        "    # Assuming ds_train and ds_test are your preprocessed datasets\n",
        "    history = model.fit(ds_train, epochs=2, validation_data=ds_test)\n",
        "\n",
        "    # Evaluate the model on the test set\n",
        "    test_loss, test_accuracy = model.evaluate(ds_test)\n",
        "    print(f'Test Loss: {test_loss}, Test Accuracy: {test_accuracy}')\n",
        "\n",
        "    # Append the results to the DataFrame\n",
        "    results_df = results_df.append({'Activation Function': activation,\n",
        "                                    'Test Accuracy': test_accuracy}, ignore_index=True)\n",
        "\n",
        "# Display the final DataFrame\n",
        "print(results_df)\n"
      ]
    },
    {
      "cell_type": "markdown",
      "id": "c81bc87a-a89b-4306-ad28-1cfded2b74b0",
      "metadata": {
        "tags": [],
        "id": "c81bc87a-a89b-4306-ad28-1cfded2b74b0"
      },
      "source": [
        "- what is the effect of using different activation functions? how about combining the activation function choice with different network size and depth?"
      ]
    },
    {
      "cell_type": "code",
      "execution_count": null,
      "id": "5b953246-2d12-44d5-80a8-0f56886e52ad",
      "metadata": {
        "tags": [],
        "colab": {
          "base_uri": "https://localhost:8080/",
          "height": 1000
        },
        "id": "5b953246-2d12-44d5-80a8-0f56886e52ad",
        "outputId": "dcc892e1-2465-4ace-bcdf-27792b946bb5"
      },
      "outputs": [
        {
          "output_type": "stream",
          "name": "stdout",
          "text": [
            "\n",
            "Training with activation function: relu, Network Size: 32, Depth: 1\n",
            "Epoch 1/2\n",
            "469/469 [==============================] - 4s 6ms/step - loss: 0.2130 - accuracy: 0.9368 - val_loss: 0.0758 - val_accuracy: 0.9781\n",
            "Epoch 2/2\n",
            "469/469 [==============================] - 3s 5ms/step - loss: 0.0627 - accuracy: 0.9816 - val_loss: 0.0681 - val_accuracy: 0.9780\n",
            "79/79 [==============================] - 0s 3ms/step - loss: 0.0681 - accuracy: 0.9780\n",
            "Test Loss: 0.06814303249120712, Test Accuracy: 0.9779999852180481\n",
            "\n",
            "Training with activation function: relu, Network Size: 32, Depth: 2\n",
            "Epoch 1/2\n"
          ]
        },
        {
          "output_type": "stream",
          "name": "stderr",
          "text": [
            "<ipython-input-13-424e44ac1b27>:48: FutureWarning: The frame.append method is deprecated and will be removed from pandas in a future version. Use pandas.concat instead.\n",
            "  results_df = results_df.append({'Activation Function': activation,\n"
          ]
        },
        {
          "output_type": "stream",
          "name": "stdout",
          "text": [
            "469/469 [==============================] - 5s 7ms/step - loss: 0.1769 - accuracy: 0.9476 - val_loss: 0.0538 - val_accuracy: 0.9819\n",
            "Epoch 2/2\n",
            "469/469 [==============================] - 4s 8ms/step - loss: 0.0499 - accuracy: 0.9846 - val_loss: 0.0532 - val_accuracy: 0.9827\n",
            "79/79 [==============================] - 0s 3ms/step - loss: 0.0532 - accuracy: 0.9827\n",
            "Test Loss: 0.053230609744787216, Test Accuracy: 0.982699990272522\n",
            "\n",
            "Training with activation function: relu, Network Size: 32, Depth: 3\n",
            "Epoch 1/2\n"
          ]
        },
        {
          "output_type": "stream",
          "name": "stderr",
          "text": [
            "<ipython-input-13-424e44ac1b27>:48: FutureWarning: The frame.append method is deprecated and will be removed from pandas in a future version. Use pandas.concat instead.\n",
            "  results_df = results_df.append({'Activation Function': activation,\n"
          ]
        },
        {
          "output_type": "stream",
          "name": "stdout",
          "text": [
            "469/469 [==============================] - 7s 10ms/step - loss: 0.1580 - accuracy: 0.9531 - val_loss: 0.0642 - val_accuracy: 0.9780\n",
            "Epoch 2/2\n",
            "469/469 [==============================] - 5s 10ms/step - loss: 0.0439 - accuracy: 0.9870 - val_loss: 0.0384 - val_accuracy: 0.9873\n",
            "79/79 [==============================] - 0s 3ms/step - loss: 0.0384 - accuracy: 0.9873\n",
            "Test Loss: 0.03835535794496536, Test Accuracy: 0.9872999787330627\n",
            "\n",
            "Training with activation function: relu, Network Size: 64, Depth: 1\n",
            "Epoch 1/2\n"
          ]
        },
        {
          "output_type": "stream",
          "name": "stderr",
          "text": [
            "<ipython-input-13-424e44ac1b27>:48: FutureWarning: The frame.append method is deprecated and will be removed from pandas in a future version. Use pandas.concat instead.\n",
            "  results_df = results_df.append({'Activation Function': activation,\n"
          ]
        },
        {
          "output_type": "stream",
          "name": "stdout",
          "text": [
            "469/469 [==============================] - 5s 8ms/step - loss: 0.1599 - accuracy: 0.9521 - val_loss: 0.0614 - val_accuracy: 0.9796\n",
            "Epoch 2/2\n",
            "469/469 [==============================] - 4s 7ms/step - loss: 0.0471 - accuracy: 0.9859 - val_loss: 0.0503 - val_accuracy: 0.9841\n",
            "79/79 [==============================] - 0s 3ms/step - loss: 0.0503 - accuracy: 0.9841\n",
            "Test Loss: 0.05025607720017433, Test Accuracy: 0.9840999841690063\n",
            "\n",
            "Training with activation function: relu, Network Size: 64, Depth: 2\n",
            "Epoch 1/2\n"
          ]
        },
        {
          "output_type": "stream",
          "name": "stderr",
          "text": [
            "<ipython-input-13-424e44ac1b27>:48: FutureWarning: The frame.append method is deprecated and will be removed from pandas in a future version. Use pandas.concat instead.\n",
            "  results_df = results_df.append({'Activation Function': activation,\n"
          ]
        },
        {
          "output_type": "stream",
          "name": "stdout",
          "text": [
            "469/469 [==============================] - 8s 12ms/step - loss: 0.1313 - accuracy: 0.9597 - val_loss: 0.0462 - val_accuracy: 0.9845\n",
            "Epoch 2/2\n",
            "469/469 [==============================] - 5s 11ms/step - loss: 0.0344 - accuracy: 0.9894 - val_loss: 0.0371 - val_accuracy: 0.9877\n",
            "79/79 [==============================] - 0s 6ms/step - loss: 0.0371 - accuracy: 0.9877\n",
            "Test Loss: 0.03714333474636078, Test Accuracy: 0.9876999855041504\n",
            "\n",
            "Training with activation function: relu, Network Size: 64, Depth: 3\n",
            "Epoch 1/2\n"
          ]
        },
        {
          "output_type": "stream",
          "name": "stderr",
          "text": [
            "<ipython-input-13-424e44ac1b27>:48: FutureWarning: The frame.append method is deprecated and will be removed from pandas in a future version. Use pandas.concat instead.\n",
            "  results_df = results_df.append({'Activation Function': activation,\n"
          ]
        },
        {
          "output_type": "stream",
          "name": "stdout",
          "text": [
            "469/469 [==============================] - 10s 16ms/step - loss: 0.1288 - accuracy: 0.9602 - val_loss: 0.0469 - val_accuracy: 0.9846\n",
            "Epoch 2/2\n",
            "469/469 [==============================] - 7s 15ms/step - loss: 0.0376 - accuracy: 0.9877 - val_loss: 0.0362 - val_accuracy: 0.9872\n",
            "79/79 [==============================] - 0s 6ms/step - loss: 0.0362 - accuracy: 0.9872\n",
            "Test Loss: 0.0362250842154026, Test Accuracy: 0.9872000217437744\n",
            "\n",
            "Training with activation function: relu, Network Size: 128, Depth: 1\n",
            "Epoch 1/2\n"
          ]
        },
        {
          "output_type": "stream",
          "name": "stderr",
          "text": [
            "<ipython-input-13-424e44ac1b27>:48: FutureWarning: The frame.append method is deprecated and will be removed from pandas in a future version. Use pandas.concat instead.\n",
            "  results_df = results_df.append({'Activation Function': activation,\n"
          ]
        },
        {
          "output_type": "stream",
          "name": "stdout",
          "text": [
            "469/469 [==============================] - 9s 16ms/step - loss: 0.1340 - accuracy: 0.9584 - val_loss: 0.0608 - val_accuracy: 0.9816\n",
            "Epoch 2/2\n",
            "469/469 [==============================] - 7s 15ms/step - loss: 0.0350 - accuracy: 0.9895 - val_loss: 0.0573 - val_accuracy: 0.9801\n",
            "79/79 [==============================] - 0s 4ms/step - loss: 0.0573 - accuracy: 0.9801\n",
            "Test Loss: 0.05728312209248543, Test Accuracy: 0.9800999760627747\n",
            "\n",
            "Training with activation function: relu, Network Size: 128, Depth: 2\n",
            "Epoch 1/2\n"
          ]
        },
        {
          "output_type": "stream",
          "name": "stderr",
          "text": [
            "<ipython-input-13-424e44ac1b27>:48: FutureWarning: The frame.append method is deprecated and will be removed from pandas in a future version. Use pandas.concat instead.\n",
            "  results_df = results_df.append({'Activation Function': activation,\n"
          ]
        },
        {
          "output_type": "stream",
          "name": "stdout",
          "text": [
            "469/469 [==============================] - 14s 25ms/step - loss: 0.1201 - accuracy: 0.9636 - val_loss: 0.0480 - val_accuracy: 0.9837\n",
            "Epoch 2/2\n",
            "469/469 [==============================] - 11s 23ms/step - loss: 0.0324 - accuracy: 0.9898 - val_loss: 0.0381 - val_accuracy: 0.9877\n",
            "79/79 [==============================] - 1s 8ms/step - loss: 0.0381 - accuracy: 0.9877\n",
            "Test Loss: 0.03806670382618904, Test Accuracy: 0.9876999855041504\n",
            "\n",
            "Training with activation function: relu, Network Size: 128, Depth: 3\n",
            "Epoch 1/2\n"
          ]
        },
        {
          "output_type": "stream",
          "name": "stderr",
          "text": [
            "<ipython-input-13-424e44ac1b27>:48: FutureWarning: The frame.append method is deprecated and will be removed from pandas in a future version. Use pandas.concat instead.\n",
            "  results_df = results_df.append({'Activation Function': activation,\n"
          ]
        },
        {
          "output_type": "stream",
          "name": "stdout",
          "text": [
            "469/469 [==============================] - 18s 33ms/step - loss: 0.1154 - accuracy: 0.9639 - val_loss: 0.0409 - val_accuracy: 0.9870\n",
            "Epoch 2/2\n",
            "469/469 [==============================] - 15s 32ms/step - loss: 0.0327 - accuracy: 0.9902 - val_loss: 0.0384 - val_accuracy: 0.9874\n",
            "79/79 [==============================] - 1s 10ms/step - loss: 0.0384 - accuracy: 0.9874\n",
            "Test Loss: 0.03836405649781227, Test Accuracy: 0.9873999953269958\n",
            "\n",
            "Training with activation function: sigmoid, Network Size: 32, Depth: 1\n",
            "Epoch 1/2\n"
          ]
        },
        {
          "output_type": "stream",
          "name": "stderr",
          "text": [
            "<ipython-input-13-424e44ac1b27>:48: FutureWarning: The frame.append method is deprecated and will be removed from pandas in a future version. Use pandas.concat instead.\n",
            "  results_df = results_df.append({'Activation Function': activation,\n"
          ]
        },
        {
          "output_type": "stream",
          "name": "stdout",
          "text": [
            "469/469 [==============================] - 4s 6ms/step - loss: 2.3364 - accuracy: 0.1063 - val_loss: 2.3023 - val_accuracy: 0.1135\n",
            "Epoch 2/2\n",
            "469/469 [==============================] - 2s 5ms/step - loss: 2.3026 - accuracy: 0.1106 - val_loss: 2.3023 - val_accuracy: 0.1135\n",
            "79/79 [==============================] - 0s 3ms/step - loss: 2.3023 - accuracy: 0.1135\n",
            "Test Loss: 2.302344560623169, Test Accuracy: 0.11349999904632568\n",
            "\n",
            "Training with activation function: sigmoid, Network Size: 32, Depth: 2\n",
            "Epoch 1/2\n"
          ]
        },
        {
          "output_type": "stream",
          "name": "stderr",
          "text": [
            "<ipython-input-13-424e44ac1b27>:48: FutureWarning: The frame.append method is deprecated and will be removed from pandas in a future version. Use pandas.concat instead.\n",
            "  results_df = results_df.append({'Activation Function': activation,\n"
          ]
        },
        {
          "output_type": "stream",
          "name": "stdout",
          "text": [
            "469/469 [==============================] - 5s 8ms/step - loss: 2.3421 - accuracy: 0.1080 - val_loss: 2.3017 - val_accuracy: 0.1135\n",
            "Epoch 2/2\n",
            "469/469 [==============================] - 4s 7ms/step - loss: 2.3027 - accuracy: 0.1105 - val_loss: 2.3013 - val_accuracy: 0.1135\n",
            "79/79 [==============================] - 0s 3ms/step - loss: 2.3013 - accuracy: 0.1135\n",
            "Test Loss: 2.3012940883636475, Test Accuracy: 0.11349999904632568\n",
            "\n",
            "Training with activation function: sigmoid, Network Size: 32, Depth: 3\n",
            "Epoch 1/2\n"
          ]
        },
        {
          "output_type": "stream",
          "name": "stderr",
          "text": [
            "<ipython-input-13-424e44ac1b27>:48: FutureWarning: The frame.append method is deprecated and will be removed from pandas in a future version. Use pandas.concat instead.\n",
            "  results_df = results_df.append({'Activation Function': activation,\n"
          ]
        },
        {
          "output_type": "stream",
          "name": "stdout",
          "text": [
            "469/469 [==============================] - 6s 10ms/step - loss: 2.3268 - accuracy: 0.1099 - val_loss: 2.3018 - val_accuracy: 0.0974\n",
            "Epoch 2/2\n",
            "469/469 [==============================] - 5s 10ms/step - loss: 2.3028 - accuracy: 0.1073 - val_loss: 2.3034 - val_accuracy: 0.1135\n",
            "79/79 [==============================] - 0s 4ms/step - loss: 2.3034 - accuracy: 0.1135\n",
            "Test Loss: 2.3033716678619385, Test Accuracy: 0.11349999904632568\n",
            "\n",
            "Training with activation function: sigmoid, Network Size: 64, Depth: 1\n",
            "Epoch 1/2\n"
          ]
        },
        {
          "output_type": "stream",
          "name": "stderr",
          "text": [
            "<ipython-input-13-424e44ac1b27>:48: FutureWarning: The frame.append method is deprecated and will be removed from pandas in a future version. Use pandas.concat instead.\n",
            "  results_df = results_df.append({'Activation Function': activation,\n"
          ]
        },
        {
          "output_type": "stream",
          "name": "stdout",
          "text": [
            "469/469 [==============================] - 5s 8ms/step - loss: 2.3614 - accuracy: 0.1059 - val_loss: 2.3026 - val_accuracy: 0.1135\n",
            "Epoch 2/2\n",
            "469/469 [==============================] - 4s 7ms/step - loss: 2.3040 - accuracy: 0.1075 - val_loss: 2.3031 - val_accuracy: 0.1135\n",
            "79/79 [==============================] - 0s 4ms/step - loss: 2.3031 - accuracy: 0.1135\n",
            "Test Loss: 2.303086996078491, Test Accuracy: 0.11349999904632568\n",
            "\n",
            "Training with activation function: sigmoid, Network Size: 64, Depth: 2\n",
            "Epoch 1/2\n"
          ]
        },
        {
          "output_type": "stream",
          "name": "stderr",
          "text": [
            "<ipython-input-13-424e44ac1b27>:48: FutureWarning: The frame.append method is deprecated and will be removed from pandas in a future version. Use pandas.concat instead.\n",
            "  results_df = results_df.append({'Activation Function': activation,\n"
          ]
        },
        {
          "output_type": "stream",
          "name": "stdout",
          "text": [
            "469/469 [==============================] - 7s 12ms/step - loss: 2.3374 - accuracy: 0.1052 - val_loss: 2.3042 - val_accuracy: 0.0980\n",
            "Epoch 2/2\n",
            "469/469 [==============================] - 6s 12ms/step - loss: 2.3042 - accuracy: 0.1067 - val_loss: 2.3060 - val_accuracy: 0.0982\n",
            "79/79 [==============================] - 0s 5ms/step - loss: 2.3060 - accuracy: 0.0982\n",
            "Test Loss: 2.3059616088867188, Test Accuracy: 0.0982000008225441\n",
            "\n",
            "Training with activation function: sigmoid, Network Size: 64, Depth: 3\n"
          ]
        },
        {
          "output_type": "stream",
          "name": "stderr",
          "text": [
            "<ipython-input-13-424e44ac1b27>:48: FutureWarning: The frame.append method is deprecated and will be removed from pandas in a future version. Use pandas.concat instead.\n",
            "  results_df = results_df.append({'Activation Function': activation,\n"
          ]
        },
        {
          "output_type": "stream",
          "name": "stdout",
          "text": [
            "Epoch 1/2\n",
            "469/469 [==============================] - 10s 17ms/step - loss: 2.3431 - accuracy: 0.1093 - val_loss: 2.3043 - val_accuracy: 0.1135\n",
            "Epoch 2/2\n",
            "469/469 [==============================] - 8s 17ms/step - loss: 2.3049 - accuracy: 0.1053 - val_loss: 2.3065 - val_accuracy: 0.1009\n",
            "79/79 [==============================] - 0s 6ms/step - loss: 2.3065 - accuracy: 0.1009\n",
            "Test Loss: 2.3064637184143066, Test Accuracy: 0.10090000182390213\n",
            "\n",
            "Training with activation function: sigmoid, Network Size: 128, Depth: 1\n",
            "Epoch 1/2\n"
          ]
        },
        {
          "output_type": "stream",
          "name": "stderr",
          "text": [
            "<ipython-input-13-424e44ac1b27>:48: FutureWarning: The frame.append method is deprecated and will be removed from pandas in a future version. Use pandas.concat instead.\n",
            "  results_df = results_df.append({'Activation Function': activation,\n"
          ]
        },
        {
          "output_type": "stream",
          "name": "stdout",
          "text": [
            "469/469 [==============================] - 9s 17ms/step - loss: 2.3808 - accuracy: 0.1041 - val_loss: 2.3048 - val_accuracy: 0.1135\n",
            "Epoch 2/2\n",
            "469/469 [==============================] - 7s 16ms/step - loss: 2.3077 - accuracy: 0.1051 - val_loss: 2.3048 - val_accuracy: 0.1032\n",
            "79/79 [==============================] - 1s 7ms/step - loss: 2.3048 - accuracy: 0.1032\n",
            "Test Loss: 2.304823875427246, Test Accuracy: 0.10320000350475311\n",
            "\n",
            "Training with activation function: sigmoid, Network Size: 128, Depth: 2\n",
            "Epoch 1/2\n"
          ]
        },
        {
          "output_type": "stream",
          "name": "stderr",
          "text": [
            "<ipython-input-13-424e44ac1b27>:48: FutureWarning: The frame.append method is deprecated and will be removed from pandas in a future version. Use pandas.concat instead.\n",
            "  results_df = results_df.append({'Activation Function': activation,\n"
          ]
        },
        {
          "output_type": "stream",
          "name": "stdout",
          "text": [
            "469/469 [==============================] - 14s 26ms/step - loss: 2.3700 - accuracy: 0.1029 - val_loss: 2.3092 - val_accuracy: 0.0974\n",
            "Epoch 2/2\n",
            "469/469 [==============================] - 12s 25ms/step - loss: 2.3077 - accuracy: 0.1056 - val_loss: 2.3094 - val_accuracy: 0.1028\n",
            "79/79 [==============================] - 1s 8ms/step - loss: 2.3094 - accuracy: 0.1028\n",
            "Test Loss: 2.3093509674072266, Test Accuracy: 0.10279999673366547\n",
            "\n",
            "Training with activation function: sigmoid, Network Size: 128, Depth: 3\n",
            "Epoch 1/2\n"
          ]
        },
        {
          "output_type": "stream",
          "name": "stderr",
          "text": [
            "<ipython-input-13-424e44ac1b27>:48: FutureWarning: The frame.append method is deprecated and will be removed from pandas in a future version. Use pandas.concat instead.\n",
            "  results_df = results_df.append({'Activation Function': activation,\n"
          ]
        },
        {
          "output_type": "stream",
          "name": "stdout",
          "text": [
            "469/469 [==============================] - 18s 34ms/step - loss: 2.3609 - accuracy: 0.1047 - val_loss: 2.3104 - val_accuracy: 0.1032\n",
            "Epoch 2/2\n",
            "469/469 [==============================] - 16s 34ms/step - loss: 2.3071 - accuracy: 0.1036 - val_loss: 2.3070 - val_accuracy: 0.1028\n",
            "79/79 [==============================] - 1s 12ms/step - loss: 2.3070 - accuracy: 0.1028\n",
            "Test Loss: 2.3069984912872314, Test Accuracy: 0.10279999673366547\n",
            "\n",
            "Training with activation function: softmax, Network Size: 32, Depth: 1\n",
            "Epoch 1/2\n"
          ]
        },
        {
          "output_type": "stream",
          "name": "stderr",
          "text": [
            "<ipython-input-13-424e44ac1b27>:48: FutureWarning: The frame.append method is deprecated and will be removed from pandas in a future version. Use pandas.concat instead.\n",
            "  results_df = results_df.append({'Activation Function': activation,\n"
          ]
        },
        {
          "output_type": "stream",
          "name": "stdout",
          "text": [
            "469/469 [==============================] - 4s 5ms/step - loss: 2.0307 - accuracy: 0.3551 - val_loss: 1.7831 - val_accuracy: 0.4097\n",
            "Epoch 2/2\n",
            "469/469 [==============================] - 3s 6ms/step - loss: 1.6444 - accuracy: 0.4094 - val_loss: 1.5123 - val_accuracy: 0.4111\n",
            "79/79 [==============================] - 0s 3ms/step - loss: 1.5123 - accuracy: 0.4111\n",
            "Test Loss: 1.5123051404953003, Test Accuracy: 0.41110000014305115\n",
            "\n",
            "Training with activation function: softmax, Network Size: 32, Depth: 2\n",
            "Epoch 1/2\n"
          ]
        },
        {
          "output_type": "stream",
          "name": "stderr",
          "text": [
            "<ipython-input-13-424e44ac1b27>:48: FutureWarning: The frame.append method is deprecated and will be removed from pandas in a future version. Use pandas.concat instead.\n",
            "  results_df = results_df.append({'Activation Function': activation,\n"
          ]
        },
        {
          "output_type": "stream",
          "name": "stdout",
          "text": [
            "469/469 [==============================] - 5s 9ms/step - loss: 2.1088 - accuracy: 0.2405 - val_loss: 1.8465 - val_accuracy: 0.3033\n",
            "Epoch 2/2\n",
            "469/469 [==============================] - 4s 9ms/step - loss: 1.7281 - accuracy: 0.3020 - val_loss: 1.6355 - val_accuracy: 0.3015\n",
            "79/79 [==============================] - 0s 4ms/step - loss: 1.6355 - accuracy: 0.3015\n",
            "Test Loss: 1.6355199813842773, Test Accuracy: 0.30149999260902405\n",
            "\n",
            "Training with activation function: softmax, Network Size: 32, Depth: 3\n",
            "Epoch 1/2\n"
          ]
        },
        {
          "output_type": "stream",
          "name": "stderr",
          "text": [
            "<ipython-input-13-424e44ac1b27>:48: FutureWarning: The frame.append method is deprecated and will be removed from pandas in a future version. Use pandas.concat instead.\n",
            "  results_df = results_df.append({'Activation Function': activation,\n"
          ]
        },
        {
          "output_type": "stream",
          "name": "stdout",
          "text": [
            "469/469 [==============================] - 7s 11ms/step - loss: 2.3028 - accuracy: 0.1101 - val_loss: 2.3013 - val_accuracy: 0.1135\n",
            "Epoch 2/2\n",
            "469/469 [==============================] - 5s 11ms/step - loss: 2.3013 - accuracy: 0.1124 - val_loss: 2.3012 - val_accuracy: 0.1135\n",
            "79/79 [==============================] - 0s 5ms/step - loss: 2.3012 - accuracy: 0.1135\n",
            "Test Loss: 2.3012070655822754, Test Accuracy: 0.11349999904632568\n",
            "\n",
            "Training with activation function: softmax, Network Size: 64, Depth: 1\n",
            "Epoch 1/2\n"
          ]
        },
        {
          "output_type": "stream",
          "name": "stderr",
          "text": [
            "<ipython-input-13-424e44ac1b27>:48: FutureWarning: The frame.append method is deprecated and will be removed from pandas in a future version. Use pandas.concat instead.\n",
            "  results_df = results_df.append({'Activation Function': activation,\n"
          ]
        },
        {
          "output_type": "stream",
          "name": "stdout",
          "text": [
            "469/469 [==============================] - 6s 9ms/step - loss: 2.0513 - accuracy: 0.2888 - val_loss: 1.8222 - val_accuracy: 0.3053\n",
            "Epoch 2/2\n",
            "469/469 [==============================] - 4s 8ms/step - loss: 1.7073 - accuracy: 0.3080 - val_loss: 1.6111 - val_accuracy: 0.3109\n",
            "79/79 [==============================] - 0s 4ms/step - loss: 1.6111 - accuracy: 0.3109\n",
            "Test Loss: 1.6111468076705933, Test Accuracy: 0.3109000027179718\n",
            "\n",
            "Training with activation function: softmax, Network Size: 64, Depth: 2\n",
            "Epoch 1/2\n"
          ]
        },
        {
          "output_type": "stream",
          "name": "stderr",
          "text": [
            "<ipython-input-13-424e44ac1b27>:48: FutureWarning: The frame.append method is deprecated and will be removed from pandas in a future version. Use pandas.concat instead.\n",
            "  results_df = results_df.append({'Activation Function': activation,\n"
          ]
        },
        {
          "output_type": "stream",
          "name": "stdout",
          "text": [
            "469/469 [==============================] - 9s 16ms/step - loss: 2.3017 - accuracy: 0.1119 - val_loss: 2.3012 - val_accuracy: 0.1135\n",
            "Epoch 2/2\n",
            "469/469 [==============================] - 7s 15ms/step - loss: 2.3014 - accuracy: 0.1124 - val_loss: 2.3011 - val_accuracy: 0.1135\n",
            "79/79 [==============================] - 1s 7ms/step - loss: 2.3011 - accuracy: 0.1135\n",
            "Test Loss: 2.3010997772216797, Test Accuracy: 0.11349999904632568\n",
            "\n",
            "Training with activation function: softmax, Network Size: 64, Depth: 3\n",
            "Epoch 1/2\n"
          ]
        },
        {
          "output_type": "stream",
          "name": "stderr",
          "text": [
            "<ipython-input-13-424e44ac1b27>:48: FutureWarning: The frame.append method is deprecated and will be removed from pandas in a future version. Use pandas.concat instead.\n",
            "  results_df = results_df.append({'Activation Function': activation,\n"
          ]
        },
        {
          "output_type": "stream",
          "name": "stdout",
          "text": [
            "469/469 [==============================] - 11s 20ms/step - loss: 2.3019 - accuracy: 0.1114 - val_loss: 2.3010 - val_accuracy: 0.1135\n",
            "Epoch 2/2\n",
            "469/469 [==============================] - 9s 20ms/step - loss: 2.3014 - accuracy: 0.1124 - val_loss: 2.3011 - val_accuracy: 0.1135\n",
            "79/79 [==============================] - 1s 8ms/step - loss: 2.3011 - accuracy: 0.1135\n",
            "Test Loss: 2.301074266433716, Test Accuracy: 0.11349999904632568\n",
            "\n",
            "Training with activation function: softmax, Network Size: 128, Depth: 1\n",
            "Epoch 1/2\n"
          ]
        },
        {
          "output_type": "stream",
          "name": "stderr",
          "text": [
            "<ipython-input-13-424e44ac1b27>:48: FutureWarning: The frame.append method is deprecated and will be removed from pandas in a future version. Use pandas.concat instead.\n",
            "  results_df = results_df.append({'Activation Function': activation,\n"
          ]
        },
        {
          "output_type": "stream",
          "name": "stdout",
          "text": [
            "469/469 [==============================] - 10s 18ms/step - loss: 2.0509 - accuracy: 0.3255 - val_loss: 1.7819 - val_accuracy: 0.3762\n",
            "Epoch 2/2\n",
            "469/469 [==============================] - 9s 18ms/step - loss: 1.6173 - accuracy: 0.3825 - val_loss: 1.4787 - val_accuracy: 0.3830\n",
            "79/79 [==============================] - 0s 6ms/step - loss: 1.4787 - accuracy: 0.3830\n",
            "Test Loss: 1.478665828704834, Test Accuracy: 0.382999986410141\n",
            "\n",
            "Training with activation function: softmax, Network Size: 128, Depth: 2\n",
            "Epoch 1/2\n"
          ]
        },
        {
          "output_type": "stream",
          "name": "stderr",
          "text": [
            "<ipython-input-13-424e44ac1b27>:48: FutureWarning: The frame.append method is deprecated and will be removed from pandas in a future version. Use pandas.concat instead.\n",
            "  results_df = results_df.append({'Activation Function': activation,\n"
          ]
        },
        {
          "output_type": "stream",
          "name": "stdout",
          "text": [
            "469/469 [==============================] - 16s 30ms/step - loss: 2.3019 - accuracy: 0.1120 - val_loss: 2.3010 - val_accuracy: 0.1135\n",
            "Epoch 2/2\n",
            "469/469 [==============================] - 14s 30ms/step - loss: 2.3014 - accuracy: 0.1124 - val_loss: 2.3011 - val_accuracy: 0.1135\n",
            "79/79 [==============================] - 1s 11ms/step - loss: 2.3011 - accuracy: 0.1135\n",
            "Test Loss: 2.301076889038086, Test Accuracy: 0.11349999904632568\n",
            "\n",
            "Training with activation function: softmax, Network Size: 128, Depth: 3\n",
            "Epoch 1/2\n"
          ]
        },
        {
          "output_type": "stream",
          "name": "stderr",
          "text": [
            "<ipython-input-13-424e44ac1b27>:48: FutureWarning: The frame.append method is deprecated and will be removed from pandas in a future version. Use pandas.concat instead.\n",
            "  results_df = results_df.append({'Activation Function': activation,\n"
          ]
        },
        {
          "output_type": "stream",
          "name": "stdout",
          "text": [
            "469/469 [==============================] - 21s 41ms/step - loss: 2.3017 - accuracy: 0.1122 - val_loss: 2.3011 - val_accuracy: 0.1135\n",
            "Epoch 2/2\n",
            "469/469 [==============================] - 19s 41ms/step - loss: 2.3014 - accuracy: 0.1124 - val_loss: 2.3011 - val_accuracy: 0.1135\n",
            "79/79 [==============================] - 1s 15ms/step - loss: 2.3011 - accuracy: 0.1135\n",
            "Test Loss: 2.3010599613189697, Test Accuracy: 0.11349999904632568\n",
            "\n",
            "Training with activation function: tanh, Network Size: 32, Depth: 1\n",
            "Epoch 1/2\n"
          ]
        },
        {
          "output_type": "stream",
          "name": "stderr",
          "text": [
            "<ipython-input-13-424e44ac1b27>:48: FutureWarning: The frame.append method is deprecated and will be removed from pandas in a future version. Use pandas.concat instead.\n",
            "  results_df = results_df.append({'Activation Function': activation,\n"
          ]
        },
        {
          "output_type": "stream",
          "name": "stdout",
          "text": [
            "469/469 [==============================] - 4s 6ms/step - loss: 0.2742 - accuracy: 0.9204 - val_loss: 0.1794 - val_accuracy: 0.9467\n",
            "Epoch 2/2\n",
            "469/469 [==============================] - 3s 5ms/step - loss: 0.1616 - accuracy: 0.9535 - val_loss: 0.1541 - val_accuracy: 0.9555\n",
            "79/79 [==============================] - 0s 3ms/step - loss: 0.1541 - accuracy: 0.9555\n",
            "Test Loss: 0.15409702062606812, Test Accuracy: 0.9555000066757202\n",
            "\n",
            "Training with activation function: tanh, Network Size: 32, Depth: 2\n",
            "Epoch 1/2\n"
          ]
        },
        {
          "output_type": "stream",
          "name": "stderr",
          "text": [
            "<ipython-input-13-424e44ac1b27>:48: FutureWarning: The frame.append method is deprecated and will be removed from pandas in a future version. Use pandas.concat instead.\n",
            "  results_df = results_df.append({'Activation Function': activation,\n"
          ]
        },
        {
          "output_type": "stream",
          "name": "stdout",
          "text": [
            "469/469 [==============================] - 5s 8ms/step - loss: 0.2720 - accuracy: 0.9208 - val_loss: 0.1851 - val_accuracy: 0.9483\n",
            "Epoch 2/2\n",
            "469/469 [==============================] - 3s 7ms/step - loss: 0.1655 - accuracy: 0.9528 - val_loss: 0.1479 - val_accuracy: 0.9569\n",
            "79/79 [==============================] - 0s 4ms/step - loss: 0.1479 - accuracy: 0.9569\n",
            "Test Loss: 0.14794138073921204, Test Accuracy: 0.9569000005722046\n",
            "\n",
            "Training with activation function: tanh, Network Size: 32, Depth: 3\n",
            "Epoch 1/2\n"
          ]
        },
        {
          "output_type": "stream",
          "name": "stderr",
          "text": [
            "<ipython-input-13-424e44ac1b27>:48: FutureWarning: The frame.append method is deprecated and will be removed from pandas in a future version. Use pandas.concat instead.\n",
            "  results_df = results_df.append({'Activation Function': activation,\n"
          ]
        },
        {
          "output_type": "stream",
          "name": "stdout",
          "text": [
            "469/469 [==============================] - 7s 10ms/step - loss: 0.2779 - accuracy: 0.9200 - val_loss: 0.1925 - val_accuracy: 0.9450\n",
            "Epoch 2/2\n",
            "469/469 [==============================] - 4s 9ms/step - loss: 0.1560 - accuracy: 0.9544 - val_loss: 0.1121 - val_accuracy: 0.9673\n",
            "79/79 [==============================] - 0s 4ms/step - loss: 0.1121 - accuracy: 0.9673\n",
            "Test Loss: 0.11209613084793091, Test Accuracy: 0.9672999978065491\n",
            "\n",
            "Training with activation function: tanh, Network Size: 64, Depth: 1\n",
            "Epoch 1/2\n"
          ]
        },
        {
          "output_type": "stream",
          "name": "stderr",
          "text": [
            "<ipython-input-13-424e44ac1b27>:48: FutureWarning: The frame.append method is deprecated and will be removed from pandas in a future version. Use pandas.concat instead.\n",
            "  results_df = results_df.append({'Activation Function': activation,\n"
          ]
        },
        {
          "output_type": "stream",
          "name": "stdout",
          "text": [
            "469/469 [==============================] - 5s 8ms/step - loss: 0.2443 - accuracy: 0.9277 - val_loss: 0.1465 - val_accuracy: 0.9597\n",
            "Epoch 2/2\n",
            "469/469 [==============================] - 4s 8ms/step - loss: 0.1300 - accuracy: 0.9625 - val_loss: 0.1269 - val_accuracy: 0.9617\n",
            "79/79 [==============================] - 0s 3ms/step - loss: 0.1269 - accuracy: 0.9617\n",
            "Test Loss: 0.12694714963436127, Test Accuracy: 0.9617000222206116\n",
            "\n",
            "Training with activation function: tanh, Network Size: 64, Depth: 2\n",
            "Epoch 1/2\n"
          ]
        },
        {
          "output_type": "stream",
          "name": "stderr",
          "text": [
            "<ipython-input-13-424e44ac1b27>:48: FutureWarning: The frame.append method is deprecated and will be removed from pandas in a future version. Use pandas.concat instead.\n",
            "  results_df = results_df.append({'Activation Function': activation,\n"
          ]
        },
        {
          "output_type": "stream",
          "name": "stdout",
          "text": [
            "469/469 [==============================] - 8s 13ms/step - loss: 0.2452 - accuracy: 0.9288 - val_loss: 0.1640 - val_accuracy: 0.9540\n",
            "Epoch 2/2\n",
            "469/469 [==============================] - 6s 12ms/step - loss: 0.1490 - accuracy: 0.9569 - val_loss: 0.1464 - val_accuracy: 0.9568\n",
            "79/79 [==============================] - 1s 7ms/step - loss: 0.1464 - accuracy: 0.9568\n",
            "Test Loss: 0.14640946686267853, Test Accuracy: 0.9567999839782715\n",
            "\n",
            "Training with activation function: tanh, Network Size: 64, Depth: 3\n",
            "Epoch 1/2\n"
          ]
        },
        {
          "output_type": "stream",
          "name": "stderr",
          "text": [
            "<ipython-input-13-424e44ac1b27>:48: FutureWarning: The frame.append method is deprecated and will be removed from pandas in a future version. Use pandas.concat instead.\n",
            "  results_df = results_df.append({'Activation Function': activation,\n"
          ]
        },
        {
          "output_type": "stream",
          "name": "stdout",
          "text": [
            "469/469 [==============================] - 10s 18ms/step - loss: 0.2614 - accuracy: 0.9243 - val_loss: 0.1932 - val_accuracy: 0.9446\n",
            "Epoch 2/2\n",
            "469/469 [==============================] - 8s 17ms/step - loss: 0.1827 - accuracy: 0.9461 - val_loss: 0.1523 - val_accuracy: 0.9553\n",
            "79/79 [==============================] - 1s 6ms/step - loss: 0.1523 - accuracy: 0.9553\n",
            "Test Loss: 0.15231387317180634, Test Accuracy: 0.955299973487854\n",
            "\n",
            "Training with activation function: tanh, Network Size: 128, Depth: 1\n",
            "Epoch 1/2\n"
          ]
        },
        {
          "output_type": "stream",
          "name": "stderr",
          "text": [
            "<ipython-input-13-424e44ac1b27>:48: FutureWarning: The frame.append method is deprecated and will be removed from pandas in a future version. Use pandas.concat instead.\n",
            "  results_df = results_df.append({'Activation Function': activation,\n"
          ]
        },
        {
          "output_type": "stream",
          "name": "stdout",
          "text": [
            "469/469 [==============================] - 9s 17ms/step - loss: 0.2289 - accuracy: 0.9328 - val_loss: 0.1457 - val_accuracy: 0.9600\n",
            "Epoch 2/2\n",
            "469/469 [==============================] - 8s 16ms/step - loss: 0.1139 - accuracy: 0.9669 - val_loss: 0.1143 - val_accuracy: 0.9680\n",
            "79/79 [==============================] - 0s 6ms/step - loss: 0.1143 - accuracy: 0.9680\n",
            "Test Loss: 0.11428089439868927, Test Accuracy: 0.9679999947547913\n",
            "\n",
            "Training with activation function: tanh, Network Size: 128, Depth: 2\n",
            "Epoch 1/2\n"
          ]
        },
        {
          "output_type": "stream",
          "name": "stderr",
          "text": [
            "<ipython-input-13-424e44ac1b27>:48: FutureWarning: The frame.append method is deprecated and will be removed from pandas in a future version. Use pandas.concat instead.\n",
            "  results_df = results_df.append({'Activation Function': activation,\n"
          ]
        },
        {
          "output_type": "stream",
          "name": "stdout",
          "text": [
            "469/469 [==============================] - 14s 26ms/step - loss: 0.2383 - accuracy: 0.9318 - val_loss: 0.1552 - val_accuracy: 0.9584\n",
            "Epoch 2/2\n",
            "469/469 [==============================] - 12s 26ms/step - loss: 0.1378 - accuracy: 0.9608 - val_loss: 0.1420 - val_accuracy: 0.9569\n",
            "79/79 [==============================] - 1s 9ms/step - loss: 0.1420 - accuracy: 0.9569\n",
            "Test Loss: 0.14202183485031128, Test Accuracy: 0.9569000005722046\n",
            "\n",
            "Training with activation function: tanh, Network Size: 128, Depth: 3\n",
            "Epoch 1/2\n"
          ]
        },
        {
          "output_type": "stream",
          "name": "stderr",
          "text": [
            "<ipython-input-13-424e44ac1b27>:48: FutureWarning: The frame.append method is deprecated and will be removed from pandas in a future version. Use pandas.concat instead.\n",
            "  results_df = results_df.append({'Activation Function': activation,\n"
          ]
        },
        {
          "output_type": "stream",
          "name": "stdout",
          "text": [
            "469/469 [==============================] - 18s 35ms/step - loss: 0.2772 - accuracy: 0.9234 - val_loss: 0.1892 - val_accuracy: 0.9453\n",
            "Epoch 2/2\n",
            "469/469 [==============================] - 17s 35ms/step - loss: 0.1822 - accuracy: 0.9481 - val_loss: 0.1847 - val_accuracy: 0.9460\n",
            "79/79 [==============================] - 1s 11ms/step - loss: 0.1847 - accuracy: 0.9460\n",
            "Test Loss: 0.18465165793895721, Test Accuracy: 0.9459999799728394\n",
            "\n",
            "Training with activation function: softplus, Network Size: 32, Depth: 1\n",
            "Epoch 1/2\n"
          ]
        },
        {
          "output_type": "stream",
          "name": "stderr",
          "text": [
            "<ipython-input-13-424e44ac1b27>:48: FutureWarning: The frame.append method is deprecated and will be removed from pandas in a future version. Use pandas.concat instead.\n",
            "  results_df = results_df.append({'Activation Function': activation,\n"
          ]
        },
        {
          "output_type": "stream",
          "name": "stdout",
          "text": [
            "469/469 [==============================] - 4s 5ms/step - loss: 2.6431 - accuracy: 0.1059 - val_loss: 2.3015 - val_accuracy: 0.1135\n",
            "Epoch 2/2\n",
            "469/469 [==============================] - 2s 5ms/step - loss: 2.3014 - accuracy: 0.1124 - val_loss: 2.3011 - val_accuracy: 0.1135\n",
            "79/79 [==============================] - 0s 3ms/step - loss: 2.3011 - accuracy: 0.1135\n",
            "Test Loss: 2.30112624168396, Test Accuracy: 0.11349999904632568\n",
            "\n",
            "Training with activation function: softplus, Network Size: 32, Depth: 2\n",
            "Epoch 1/2\n"
          ]
        },
        {
          "output_type": "stream",
          "name": "stderr",
          "text": [
            "<ipython-input-13-424e44ac1b27>:48: FutureWarning: The frame.append method is deprecated and will be removed from pandas in a future version. Use pandas.concat instead.\n",
            "  results_df = results_df.append({'Activation Function': activation,\n"
          ]
        },
        {
          "output_type": "stream",
          "name": "stdout",
          "text": [
            "469/469 [==============================] - 6s 9ms/step - loss: 2.4936 - accuracy: 0.1077 - val_loss: 2.2997 - val_accuracy: 0.1135\n",
            "Epoch 2/2\n",
            "469/469 [==============================] - 4s 7ms/step - loss: 1.6367 - accuracy: 0.4002 - val_loss: 0.7407 - val_accuracy: 0.7663\n",
            "79/79 [==============================] - 0s 3ms/step - loss: 0.7407 - accuracy: 0.7663\n",
            "Test Loss: 0.7406647205352783, Test Accuracy: 0.7663000226020813\n",
            "\n",
            "Training with activation function: softplus, Network Size: 32, Depth: 3\n",
            "Epoch 1/2\n"
          ]
        },
        {
          "output_type": "stream",
          "name": "stderr",
          "text": [
            "<ipython-input-13-424e44ac1b27>:48: FutureWarning: The frame.append method is deprecated and will be removed from pandas in a future version. Use pandas.concat instead.\n",
            "  results_df = results_df.append({'Activation Function': activation,\n"
          ]
        },
        {
          "output_type": "stream",
          "name": "stdout",
          "text": [
            "469/469 [==============================] - 7s 11ms/step - loss: 2.1426 - accuracy: 0.2526 - val_loss: 0.3685 - val_accuracy: 0.8897\n",
            "Epoch 2/2\n",
            "469/469 [==============================] - 5s 10ms/step - loss: 0.2763 - accuracy: 0.9181 - val_loss: 0.1671 - val_accuracy: 0.9510\n",
            "79/79 [==============================] - 0s 4ms/step - loss: 0.1671 - accuracy: 0.9510\n",
            "Test Loss: 0.16712968051433563, Test Accuracy: 0.9509999752044678\n",
            "\n",
            "Training with activation function: softplus, Network Size: 64, Depth: 1\n",
            "Epoch 1/2\n"
          ]
        },
        {
          "output_type": "stream",
          "name": "stderr",
          "text": [
            "<ipython-input-13-424e44ac1b27>:48: FutureWarning: The frame.append method is deprecated and will be removed from pandas in a future version. Use pandas.concat instead.\n",
            "  results_df = results_df.append({'Activation Function': activation,\n"
          ]
        },
        {
          "output_type": "stream",
          "name": "stdout",
          "text": [
            "469/469 [==============================] - 5s 9ms/step - loss: 3.7765 - accuracy: 0.1101 - val_loss: 2.3016 - val_accuracy: 0.1135\n",
            "Epoch 2/2\n",
            "469/469 [==============================] - 4s 8ms/step - loss: 2.3014 - accuracy: 0.1124 - val_loss: 2.3011 - val_accuracy: 0.1135\n",
            "79/79 [==============================] - 0s 4ms/step - loss: 2.3011 - accuracy: 0.1135\n",
            "Test Loss: 2.30111026763916, Test Accuracy: 0.11349999904632568\n",
            "\n",
            "Training with activation function: softplus, Network Size: 64, Depth: 2\n",
            "Epoch 1/2\n"
          ]
        },
        {
          "output_type": "stream",
          "name": "stderr",
          "text": [
            "<ipython-input-13-424e44ac1b27>:48: FutureWarning: The frame.append method is deprecated and will be removed from pandas in a future version. Use pandas.concat instead.\n",
            "  results_df = results_df.append({'Activation Function': activation,\n"
          ]
        },
        {
          "output_type": "stream",
          "name": "stdout",
          "text": [
            "469/469 [==============================] - 8s 14ms/step - loss: 2.1201 - accuracy: 0.4185 - val_loss: 0.3798 - val_accuracy: 0.8880\n",
            "Epoch 2/2\n",
            "469/469 [==============================] - 6s 13ms/step - loss: 0.3226 - accuracy: 0.9046 - val_loss: 0.2497 - val_accuracy: 0.9223\n",
            "79/79 [==============================] - 0s 6ms/step - loss: 0.2497 - accuracy: 0.9223\n",
            "Test Loss: 0.24973547458648682, Test Accuracy: 0.9222999811172485\n",
            "\n",
            "Training with activation function: softplus, Network Size: 64, Depth: 3\n",
            "Epoch 1/2\n"
          ]
        },
        {
          "output_type": "stream",
          "name": "stderr",
          "text": [
            "<ipython-input-13-424e44ac1b27>:48: FutureWarning: The frame.append method is deprecated and will be removed from pandas in a future version. Use pandas.concat instead.\n",
            "  results_df = results_df.append({'Activation Function': activation,\n"
          ]
        },
        {
          "output_type": "stream",
          "name": "stdout",
          "text": [
            "469/469 [==============================] - 10s 18ms/step - loss: 2.6292 - accuracy: 0.1049 - val_loss: 2.3057 - val_accuracy: 0.0980\n",
            "Epoch 2/2\n",
            "469/469 [==============================] - 8s 17ms/step - loss: 2.3043 - accuracy: 0.1046 - val_loss: 2.3042 - val_accuracy: 0.1032\n",
            "79/79 [==============================] - 1s 6ms/step - loss: 2.3042 - accuracy: 0.1032\n",
            "Test Loss: 2.304224729537964, Test Accuracy: 0.10320000350475311\n",
            "\n",
            "Training with activation function: softplus, Network Size: 128, Depth: 1\n",
            "Epoch 1/2\n"
          ]
        },
        {
          "output_type": "stream",
          "name": "stderr",
          "text": [
            "<ipython-input-13-424e44ac1b27>:48: FutureWarning: The frame.append method is deprecated and will be removed from pandas in a future version. Use pandas.concat instead.\n",
            "  results_df = results_df.append({'Activation Function': activation,\n"
          ]
        },
        {
          "output_type": "stream",
          "name": "stdout",
          "text": [
            "469/469 [==============================] - 9s 16ms/step - loss: 8.8526 - accuracy: 0.1062 - val_loss: 2.3018 - val_accuracy: 0.1135\n",
            "Epoch 2/2\n",
            "469/469 [==============================] - 8s 17ms/step - loss: 2.3016 - accuracy: 0.1124 - val_loss: 2.3012 - val_accuracy: 0.1135\n",
            "79/79 [==============================] - 1s 6ms/step - loss: 2.3012 - accuracy: 0.1135\n",
            "Test Loss: 2.301234006881714, Test Accuracy: 0.11349999904632568\n",
            "\n",
            "Training with activation function: softplus, Network Size: 128, Depth: 2\n",
            "Epoch 1/2\n"
          ]
        },
        {
          "output_type": "stream",
          "name": "stderr",
          "text": [
            "<ipython-input-13-424e44ac1b27>:48: FutureWarning: The frame.append method is deprecated and will be removed from pandas in a future version. Use pandas.concat instead.\n",
            "  results_df = results_df.append({'Activation Function': activation,\n"
          ]
        },
        {
          "output_type": "stream",
          "name": "stdout",
          "text": [
            "469/469 [==============================] - 14s 27ms/step - loss: 3.4324 - accuracy: 0.1037 - val_loss: 2.3052 - val_accuracy: 0.0762\n",
            "Epoch 2/2\n",
            "469/469 [==============================] - 13s 27ms/step - loss: 2.3079 - accuracy: 0.1032 - val_loss: 2.3054 - val_accuracy: 0.1177\n",
            "79/79 [==============================] - 1s 8ms/step - loss: 2.3054 - accuracy: 0.1177\n",
            "Test Loss: 2.305372953414917, Test Accuracy: 0.1177000030875206\n",
            "\n",
            "Training with activation function: softplus, Network Size: 128, Depth: 3\n",
            "Epoch 1/2\n"
          ]
        },
        {
          "output_type": "stream",
          "name": "stderr",
          "text": [
            "<ipython-input-13-424e44ac1b27>:48: FutureWarning: The frame.append method is deprecated and will be removed from pandas in a future version. Use pandas.concat instead.\n",
            "  results_df = results_df.append({'Activation Function': activation,\n"
          ]
        },
        {
          "output_type": "stream",
          "name": "stdout",
          "text": [
            "469/469 [==============================] - 19s 36ms/step - loss: 3.2595 - accuracy: 0.1036 - val_loss: 2.3065 - val_accuracy: 0.0982\n",
            "Epoch 2/2\n",
            "469/469 [==============================] - 17s 35ms/step - loss: 2.3075 - accuracy: 0.1042 - val_loss: 2.3092 - val_accuracy: 0.1028\n",
            "79/79 [==============================] - 1s 12ms/step - loss: 2.3092 - accuracy: 0.1028\n",
            "Test Loss: 2.309225082397461, Test Accuracy: 0.10279999673366547\n",
            "\n",
            "Training with activation function: leaky_relu, Network Size: 32, Depth: 1\n",
            "Epoch 1/2\n"
          ]
        },
        {
          "output_type": "stream",
          "name": "stderr",
          "text": [
            "<ipython-input-13-424e44ac1b27>:48: FutureWarning: The frame.append method is deprecated and will be removed from pandas in a future version. Use pandas.concat instead.\n",
            "  results_df = results_df.append({'Activation Function': activation,\n"
          ]
        },
        {
          "output_type": "stream",
          "name": "stdout",
          "text": [
            "469/469 [==============================] - 4s 6ms/step - loss: 0.2329 - accuracy: 0.9319 - val_loss: 0.1109 - val_accuracy: 0.9672\n",
            "Epoch 2/2\n",
            "469/469 [==============================] - 2s 5ms/step - loss: 0.0831 - accuracy: 0.9757 - val_loss: 0.0747 - val_accuracy: 0.9774\n",
            "79/79 [==============================] - 0s 3ms/step - loss: 0.0747 - accuracy: 0.9774\n",
            "Test Loss: 0.07474658638238907, Test Accuracy: 0.977400004863739\n",
            "\n",
            "Training with activation function: leaky_relu, Network Size: 32, Depth: 2\n",
            "Epoch 1/2\n"
          ]
        },
        {
          "output_type": "stream",
          "name": "stderr",
          "text": [
            "<ipython-input-13-424e44ac1b27>:48: FutureWarning: The frame.append method is deprecated and will be removed from pandas in a future version. Use pandas.concat instead.\n",
            "  results_df = results_df.append({'Activation Function': activation,\n"
          ]
        },
        {
          "output_type": "stream",
          "name": "stdout",
          "text": [
            "469/469 [==============================] - 5s 8ms/step - loss: 0.1878 - accuracy: 0.9449 - val_loss: 0.0723 - val_accuracy: 0.9749\n",
            "Epoch 2/2\n",
            "469/469 [==============================] - 4s 7ms/step - loss: 0.0549 - accuracy: 0.9833 - val_loss: 0.0551 - val_accuracy: 0.9832\n",
            "79/79 [==============================] - 0s 4ms/step - loss: 0.0551 - accuracy: 0.9832\n",
            "Test Loss: 0.05514874309301376, Test Accuracy: 0.9832000136375427\n",
            "\n",
            "Training with activation function: leaky_relu, Network Size: 32, Depth: 3\n",
            "Epoch 1/2\n"
          ]
        },
        {
          "output_type": "stream",
          "name": "stderr",
          "text": [
            "<ipython-input-13-424e44ac1b27>:48: FutureWarning: The frame.append method is deprecated and will be removed from pandas in a future version. Use pandas.concat instead.\n",
            "  results_df = results_df.append({'Activation Function': activation,\n"
          ]
        },
        {
          "output_type": "stream",
          "name": "stdout",
          "text": [
            "469/469 [==============================] - 7s 11ms/step - loss: 0.1709 - accuracy: 0.9496 - val_loss: 0.0554 - val_accuracy: 0.9819\n",
            "Epoch 2/2\n",
            "469/469 [==============================] - 4s 9ms/step - loss: 0.0500 - accuracy: 0.9843 - val_loss: 0.0380 - val_accuracy: 0.9868\n",
            "79/79 [==============================] - 0s 4ms/step - loss: 0.0380 - accuracy: 0.9868\n",
            "Test Loss: 0.03802577033638954, Test Accuracy: 0.9868000149726868\n",
            "\n",
            "Training with activation function: leaky_relu, Network Size: 64, Depth: 1\n",
            "Epoch 1/2\n"
          ]
        },
        {
          "output_type": "stream",
          "name": "stderr",
          "text": [
            "<ipython-input-13-424e44ac1b27>:48: FutureWarning: The frame.append method is deprecated and will be removed from pandas in a future version. Use pandas.concat instead.\n",
            "  results_df = results_df.append({'Activation Function': activation,\n"
          ]
        },
        {
          "output_type": "stream",
          "name": "stdout",
          "text": [
            "469/469 [==============================] - 5s 8ms/step - loss: 0.1940 - accuracy: 0.9438 - val_loss: 0.0884 - val_accuracy: 0.9738\n",
            "Epoch 2/2\n",
            "469/469 [==============================] - 4s 8ms/step - loss: 0.0656 - accuracy: 0.9803 - val_loss: 0.0722 - val_accuracy: 0.9768\n",
            "79/79 [==============================] - 0s 3ms/step - loss: 0.0722 - accuracy: 0.9768\n",
            "Test Loss: 0.07218898087739944, Test Accuracy: 0.9768000245094299\n",
            "\n",
            "Training with activation function: leaky_relu, Network Size: 64, Depth: 2\n",
            "Epoch 1/2\n"
          ]
        },
        {
          "output_type": "stream",
          "name": "stderr",
          "text": [
            "<ipython-input-13-424e44ac1b27>:48: FutureWarning: The frame.append method is deprecated and will be removed from pandas in a future version. Use pandas.concat instead.\n",
            "  results_df = results_df.append({'Activation Function': activation,\n"
          ]
        },
        {
          "output_type": "stream",
          "name": "stdout",
          "text": [
            "469/469 [==============================] - 8s 13ms/step - loss: 0.1459 - accuracy: 0.9558 - val_loss: 0.0509 - val_accuracy: 0.9824\n",
            "Epoch 2/2\n",
            "469/469 [==============================] - 6s 12ms/step - loss: 0.0455 - accuracy: 0.9858 - val_loss: 0.0509 - val_accuracy: 0.9832\n",
            "79/79 [==============================] - 1s 7ms/step - loss: 0.0509 - accuracy: 0.9832\n",
            "Test Loss: 0.05091375857591629, Test Accuracy: 0.9832000136375427\n",
            "\n",
            "Training with activation function: leaky_relu, Network Size: 64, Depth: 3\n",
            "Epoch 1/2\n"
          ]
        },
        {
          "output_type": "stream",
          "name": "stderr",
          "text": [
            "<ipython-input-13-424e44ac1b27>:48: FutureWarning: The frame.append method is deprecated and will be removed from pandas in a future version. Use pandas.concat instead.\n",
            "  results_df = results_df.append({'Activation Function': activation,\n"
          ]
        },
        {
          "output_type": "stream",
          "name": "stdout",
          "text": [
            "469/469 [==============================] - 10s 17ms/step - loss: 0.1348 - accuracy: 0.9592 - val_loss: 0.0467 - val_accuracy: 0.9853\n",
            "Epoch 2/2\n",
            "469/469 [==============================] - 8s 17ms/step - loss: 0.0437 - accuracy: 0.9869 - val_loss: 0.0386 - val_accuracy: 0.9875\n",
            "79/79 [==============================] - 1s 7ms/step - loss: 0.0386 - accuracy: 0.9875\n",
            "Test Loss: 0.03862405940890312, Test Accuracy: 0.987500011920929\n",
            "\n",
            "Training with activation function: leaky_relu, Network Size: 128, Depth: 1\n",
            "Epoch 1/2\n"
          ]
        },
        {
          "output_type": "stream",
          "name": "stderr",
          "text": [
            "<ipython-input-13-424e44ac1b27>:48: FutureWarning: The frame.append method is deprecated and will be removed from pandas in a future version. Use pandas.concat instead.\n",
            "  results_df = results_df.append({'Activation Function': activation,\n"
          ]
        },
        {
          "output_type": "stream",
          "name": "stdout",
          "text": [
            "469/469 [==============================] - 9s 17ms/step - loss: 0.1743 - accuracy: 0.9474 - val_loss: 0.0805 - val_accuracy: 0.9746\n",
            "Epoch 2/2\n",
            "469/469 [==============================] - 8s 17ms/step - loss: 0.0589 - accuracy: 0.9818 - val_loss: 0.0694 - val_accuracy: 0.9763\n",
            "79/79 [==============================] - 0s 5ms/step - loss: 0.0694 - accuracy: 0.9763\n",
            "Test Loss: 0.06941991299390793, Test Accuracy: 0.9763000011444092\n",
            "\n",
            "Training with activation function: leaky_relu, Network Size: 128, Depth: 2\n",
            "Epoch 1/2\n"
          ]
        },
        {
          "output_type": "stream",
          "name": "stderr",
          "text": [
            "<ipython-input-13-424e44ac1b27>:48: FutureWarning: The frame.append method is deprecated and will be removed from pandas in a future version. Use pandas.concat instead.\n",
            "  results_df = results_df.append({'Activation Function': activation,\n"
          ]
        },
        {
          "output_type": "stream",
          "name": "stdout",
          "text": [
            "469/469 [==============================] - 14s 27ms/step - loss: 0.1361 - accuracy: 0.9597 - val_loss: 0.0498 - val_accuracy: 0.9838\n",
            "Epoch 2/2\n",
            "469/469 [==============================] - 12s 26ms/step - loss: 0.0462 - accuracy: 0.9862 - val_loss: 0.0615 - val_accuracy: 0.9801\n",
            "79/79 [==============================] - 1s 11ms/step - loss: 0.0615 - accuracy: 0.9801\n",
            "Test Loss: 0.0614815354347229, Test Accuracy: 0.9800999760627747\n",
            "\n",
            "Training with activation function: leaky_relu, Network Size: 128, Depth: 3\n",
            "Epoch 1/2\n"
          ]
        },
        {
          "output_type": "stream",
          "name": "stderr",
          "text": [
            "<ipython-input-13-424e44ac1b27>:48: FutureWarning: The frame.append method is deprecated and will be removed from pandas in a future version. Use pandas.concat instead.\n",
            "  results_df = results_df.append({'Activation Function': activation,\n"
          ]
        },
        {
          "output_type": "stream",
          "name": "stdout",
          "text": [
            "469/469 [==============================] - 18s 35ms/step - loss: 0.1288 - accuracy: 0.9610 - val_loss: 0.0521 - val_accuracy: 0.9844\n",
            "Epoch 2/2\n",
            "469/469 [==============================] - 17s 35ms/step - loss: 0.0473 - accuracy: 0.9859 - val_loss: 0.0348 - val_accuracy: 0.9881\n",
            "79/79 [==============================] - 1s 13ms/step - loss: 0.0348 - accuracy: 0.9881\n",
            "Test Loss: 0.034794602543115616, Test Accuracy: 0.988099992275238\n",
            "   Activation Function Network Size  Test Accuracy\n",
            "0                 relu           32         0.9780\n",
            "1                 relu           32         0.9827\n",
            "2                 relu           32         0.9873\n",
            "3                 relu           64         0.9841\n",
            "4                 relu           64         0.9877\n",
            "5                 relu           64         0.9872\n",
            "6                 relu          128         0.9801\n",
            "7                 relu          128         0.9877\n",
            "8                 relu          128         0.9874\n",
            "9              sigmoid           32         0.1135\n",
            "10             sigmoid           32         0.1135\n",
            "11             sigmoid           32         0.1135\n",
            "12             sigmoid           64         0.1135\n",
            "13             sigmoid           64         0.0982\n",
            "14             sigmoid           64         0.1009\n",
            "15             sigmoid          128         0.1032\n",
            "16             sigmoid          128         0.1028\n",
            "17             sigmoid          128         0.1028\n",
            "18             softmax           32         0.4111\n",
            "19             softmax           32         0.3015\n",
            "20             softmax           32         0.1135\n",
            "21             softmax           64         0.3109\n",
            "22             softmax           64         0.1135\n",
            "23             softmax           64         0.1135\n",
            "24             softmax          128         0.3830\n",
            "25             softmax          128         0.1135\n",
            "26             softmax          128         0.1135\n",
            "27                tanh           32         0.9555\n",
            "28                tanh           32         0.9569\n",
            "29                tanh           32         0.9673\n",
            "30                tanh           64         0.9617\n",
            "31                tanh           64         0.9568\n",
            "32                tanh           64         0.9553\n",
            "33                tanh          128         0.9680\n",
            "34                tanh          128         0.9569\n",
            "35                tanh          128         0.9460\n",
            "36            softplus           32         0.1135\n",
            "37            softplus           32         0.7663\n",
            "38            softplus           32         0.9510\n",
            "39            softplus           64         0.1135\n",
            "40            softplus           64         0.9223\n",
            "41            softplus           64         0.1032\n",
            "42            softplus          128         0.1135\n",
            "43            softplus          128         0.1177\n",
            "44            softplus          128         0.1028\n",
            "45          leaky_relu           32         0.9774\n",
            "46          leaky_relu           32         0.9832\n",
            "47          leaky_relu           32         0.9868\n",
            "48          leaky_relu           64         0.9768\n",
            "49          leaky_relu           64         0.9832\n",
            "50          leaky_relu           64         0.9875\n",
            "51          leaky_relu          128         0.9763\n",
            "52          leaky_relu          128         0.9801\n",
            "53          leaky_relu          128         0.9881\n"
          ]
        },
        {
          "output_type": "stream",
          "name": "stderr",
          "text": [
            "<ipython-input-13-424e44ac1b27>:48: FutureWarning: The frame.append method is deprecated and will be removed from pandas in a future version. Use pandas.concat instead.\n",
            "  results_df = results_df.append({'Activation Function': activation,\n"
          ]
        },
        {
          "output_type": "display_data",
          "data": {
            "text/plain": [
              "<IPython.core.display.HTML object>"
            ],
            "text/html": [
              "<table border=\"1\" class=\"dataframe\">\n",
              "  <thead>\n",
              "    <tr style=\"text-align: right;\">\n",
              "      <th></th>\n",
              "      <th>Activation Function</th>\n",
              "      <th>Network Size</th>\n",
              "      <th>Test Accuracy</th>\n",
              "    </tr>\n",
              "  </thead>\n",
              "  <tbody>\n",
              "    <tr>\n",
              "      <th>0</th>\n",
              "      <td>relu</td>\n",
              "      <td>32</td>\n",
              "      <td>0.9780</td>\n",
              "    </tr>\n",
              "    <tr>\n",
              "      <th>1</th>\n",
              "      <td>relu</td>\n",
              "      <td>32</td>\n",
              "      <td>0.9827</td>\n",
              "    </tr>\n",
              "    <tr>\n",
              "      <th>2</th>\n",
              "      <td>relu</td>\n",
              "      <td>32</td>\n",
              "      <td>0.9873</td>\n",
              "    </tr>\n",
              "    <tr>\n",
              "      <th>3</th>\n",
              "      <td>relu</td>\n",
              "      <td>64</td>\n",
              "      <td>0.9841</td>\n",
              "    </tr>\n",
              "    <tr>\n",
              "      <th>4</th>\n",
              "      <td>relu</td>\n",
              "      <td>64</td>\n",
              "      <td>0.9877</td>\n",
              "    </tr>\n",
              "    <tr>\n",
              "      <th>5</th>\n",
              "      <td>relu</td>\n",
              "      <td>64</td>\n",
              "      <td>0.9872</td>\n",
              "    </tr>\n",
              "    <tr>\n",
              "      <th>6</th>\n",
              "      <td>relu</td>\n",
              "      <td>128</td>\n",
              "      <td>0.9801</td>\n",
              "    </tr>\n",
              "    <tr>\n",
              "      <th>7</th>\n",
              "      <td>relu</td>\n",
              "      <td>128</td>\n",
              "      <td>0.9877</td>\n",
              "    </tr>\n",
              "    <tr>\n",
              "      <th>8</th>\n",
              "      <td>relu</td>\n",
              "      <td>128</td>\n",
              "      <td>0.9874</td>\n",
              "    </tr>\n",
              "    <tr>\n",
              "      <th>9</th>\n",
              "      <td>sigmoid</td>\n",
              "      <td>32</td>\n",
              "      <td>0.1135</td>\n",
              "    </tr>\n",
              "    <tr>\n",
              "      <th>10</th>\n",
              "      <td>sigmoid</td>\n",
              "      <td>32</td>\n",
              "      <td>0.1135</td>\n",
              "    </tr>\n",
              "    <tr>\n",
              "      <th>11</th>\n",
              "      <td>sigmoid</td>\n",
              "      <td>32</td>\n",
              "      <td>0.1135</td>\n",
              "    </tr>\n",
              "    <tr>\n",
              "      <th>12</th>\n",
              "      <td>sigmoid</td>\n",
              "      <td>64</td>\n",
              "      <td>0.1135</td>\n",
              "    </tr>\n",
              "    <tr>\n",
              "      <th>13</th>\n",
              "      <td>sigmoid</td>\n",
              "      <td>64</td>\n",
              "      <td>0.0982</td>\n",
              "    </tr>\n",
              "    <tr>\n",
              "      <th>14</th>\n",
              "      <td>sigmoid</td>\n",
              "      <td>64</td>\n",
              "      <td>0.1009</td>\n",
              "    </tr>\n",
              "    <tr>\n",
              "      <th>15</th>\n",
              "      <td>sigmoid</td>\n",
              "      <td>128</td>\n",
              "      <td>0.1032</td>\n",
              "    </tr>\n",
              "    <tr>\n",
              "      <th>16</th>\n",
              "      <td>sigmoid</td>\n",
              "      <td>128</td>\n",
              "      <td>0.1028</td>\n",
              "    </tr>\n",
              "    <tr>\n",
              "      <th>17</th>\n",
              "      <td>sigmoid</td>\n",
              "      <td>128</td>\n",
              "      <td>0.1028</td>\n",
              "    </tr>\n",
              "    <tr>\n",
              "      <th>18</th>\n",
              "      <td>softmax</td>\n",
              "      <td>32</td>\n",
              "      <td>0.4111</td>\n",
              "    </tr>\n",
              "    <tr>\n",
              "      <th>19</th>\n",
              "      <td>softmax</td>\n",
              "      <td>32</td>\n",
              "      <td>0.3015</td>\n",
              "    </tr>\n",
              "    <tr>\n",
              "      <th>20</th>\n",
              "      <td>softmax</td>\n",
              "      <td>32</td>\n",
              "      <td>0.1135</td>\n",
              "    </tr>\n",
              "    <tr>\n",
              "      <th>21</th>\n",
              "      <td>softmax</td>\n",
              "      <td>64</td>\n",
              "      <td>0.3109</td>\n",
              "    </tr>\n",
              "    <tr>\n",
              "      <th>22</th>\n",
              "      <td>softmax</td>\n",
              "      <td>64</td>\n",
              "      <td>0.1135</td>\n",
              "    </tr>\n",
              "    <tr>\n",
              "      <th>23</th>\n",
              "      <td>softmax</td>\n",
              "      <td>64</td>\n",
              "      <td>0.1135</td>\n",
              "    </tr>\n",
              "    <tr>\n",
              "      <th>24</th>\n",
              "      <td>softmax</td>\n",
              "      <td>128</td>\n",
              "      <td>0.3830</td>\n",
              "    </tr>\n",
              "    <tr>\n",
              "      <th>25</th>\n",
              "      <td>softmax</td>\n",
              "      <td>128</td>\n",
              "      <td>0.1135</td>\n",
              "    </tr>\n",
              "    <tr>\n",
              "      <th>26</th>\n",
              "      <td>softmax</td>\n",
              "      <td>128</td>\n",
              "      <td>0.1135</td>\n",
              "    </tr>\n",
              "    <tr>\n",
              "      <th>27</th>\n",
              "      <td>tanh</td>\n",
              "      <td>32</td>\n",
              "      <td>0.9555</td>\n",
              "    </tr>\n",
              "    <tr>\n",
              "      <th>28</th>\n",
              "      <td>tanh</td>\n",
              "      <td>32</td>\n",
              "      <td>0.9569</td>\n",
              "    </tr>\n",
              "    <tr>\n",
              "      <th>29</th>\n",
              "      <td>tanh</td>\n",
              "      <td>32</td>\n",
              "      <td>0.9673</td>\n",
              "    </tr>\n",
              "    <tr>\n",
              "      <th>30</th>\n",
              "      <td>tanh</td>\n",
              "      <td>64</td>\n",
              "      <td>0.9617</td>\n",
              "    </tr>\n",
              "    <tr>\n",
              "      <th>31</th>\n",
              "      <td>tanh</td>\n",
              "      <td>64</td>\n",
              "      <td>0.9568</td>\n",
              "    </tr>\n",
              "    <tr>\n",
              "      <th>32</th>\n",
              "      <td>tanh</td>\n",
              "      <td>64</td>\n",
              "      <td>0.9553</td>\n",
              "    </tr>\n",
              "    <tr>\n",
              "      <th>33</th>\n",
              "      <td>tanh</td>\n",
              "      <td>128</td>\n",
              "      <td>0.9680</td>\n",
              "    </tr>\n",
              "    <tr>\n",
              "      <th>34</th>\n",
              "      <td>tanh</td>\n",
              "      <td>128</td>\n",
              "      <td>0.9569</td>\n",
              "    </tr>\n",
              "    <tr>\n",
              "      <th>35</th>\n",
              "      <td>tanh</td>\n",
              "      <td>128</td>\n",
              "      <td>0.9460</td>\n",
              "    </tr>\n",
              "    <tr>\n",
              "      <th>36</th>\n",
              "      <td>softplus</td>\n",
              "      <td>32</td>\n",
              "      <td>0.1135</td>\n",
              "    </tr>\n",
              "    <tr>\n",
              "      <th>37</th>\n",
              "      <td>softplus</td>\n",
              "      <td>32</td>\n",
              "      <td>0.7663</td>\n",
              "    </tr>\n",
              "    <tr>\n",
              "      <th>38</th>\n",
              "      <td>softplus</td>\n",
              "      <td>32</td>\n",
              "      <td>0.9510</td>\n",
              "    </tr>\n",
              "    <tr>\n",
              "      <th>39</th>\n",
              "      <td>softplus</td>\n",
              "      <td>64</td>\n",
              "      <td>0.1135</td>\n",
              "    </tr>\n",
              "    <tr>\n",
              "      <th>40</th>\n",
              "      <td>softplus</td>\n",
              "      <td>64</td>\n",
              "      <td>0.9223</td>\n",
              "    </tr>\n",
              "    <tr>\n",
              "      <th>41</th>\n",
              "      <td>softplus</td>\n",
              "      <td>64</td>\n",
              "      <td>0.1032</td>\n",
              "    </tr>\n",
              "    <tr>\n",
              "      <th>42</th>\n",
              "      <td>softplus</td>\n",
              "      <td>128</td>\n",
              "      <td>0.1135</td>\n",
              "    </tr>\n",
              "    <tr>\n",
              "      <th>43</th>\n",
              "      <td>softplus</td>\n",
              "      <td>128</td>\n",
              "      <td>0.1177</td>\n",
              "    </tr>\n",
              "    <tr>\n",
              "      <th>44</th>\n",
              "      <td>softplus</td>\n",
              "      <td>128</td>\n",
              "      <td>0.1028</td>\n",
              "    </tr>\n",
              "    <tr>\n",
              "      <th>45</th>\n",
              "      <td>leaky_relu</td>\n",
              "      <td>32</td>\n",
              "      <td>0.9774</td>\n",
              "    </tr>\n",
              "    <tr>\n",
              "      <th>46</th>\n",
              "      <td>leaky_relu</td>\n",
              "      <td>32</td>\n",
              "      <td>0.9832</td>\n",
              "    </tr>\n",
              "    <tr>\n",
              "      <th>47</th>\n",
              "      <td>leaky_relu</td>\n",
              "      <td>32</td>\n",
              "      <td>0.9868</td>\n",
              "    </tr>\n",
              "    <tr>\n",
              "      <th>48</th>\n",
              "      <td>leaky_relu</td>\n",
              "      <td>64</td>\n",
              "      <td>0.9768</td>\n",
              "    </tr>\n",
              "    <tr>\n",
              "      <th>49</th>\n",
              "      <td>leaky_relu</td>\n",
              "      <td>64</td>\n",
              "      <td>0.9832</td>\n",
              "    </tr>\n",
              "    <tr>\n",
              "      <th>50</th>\n",
              "      <td>leaky_relu</td>\n",
              "      <td>64</td>\n",
              "      <td>0.9875</td>\n",
              "    </tr>\n",
              "    <tr>\n",
              "      <th>51</th>\n",
              "      <td>leaky_relu</td>\n",
              "      <td>128</td>\n",
              "      <td>0.9763</td>\n",
              "    </tr>\n",
              "    <tr>\n",
              "      <th>52</th>\n",
              "      <td>leaky_relu</td>\n",
              "      <td>128</td>\n",
              "      <td>0.9801</td>\n",
              "    </tr>\n",
              "    <tr>\n",
              "      <th>53</th>\n",
              "      <td>leaky_relu</td>\n",
              "      <td>128</td>\n",
              "      <td>0.9881</td>\n",
              "    </tr>\n",
              "  </tbody>\n",
              "</table>"
            ]
          },
          "metadata": {}
        }
      ],
      "source": [
        "import pandas as pd\n",
        "from tensorflow.keras import layers, models\n",
        "\n",
        "# Create an empty DataFrame to store the results\n",
        "results_df = pd.DataFrame(columns=['Activation Function', 'Network Size', 'Test Accuracy'])\n",
        "\n",
        "activations_to_try = ['relu', 'sigmoid', 'softmax', 'tanh', 'softplus', 'leaky_relu']\n",
        "network_sizes = [32, 64, 128]  # You can modify this list with different sizes\n",
        "network_depths = [1, 2, 3]  # You can modify this list with different depths\n",
        "\n",
        "for activation in activations_to_try:\n",
        "    for size in network_sizes:\n",
        "        for depth in network_depths:\n",
        "            print(f\"\\nTraining with activation function: {activation}, Network Size: {size}, Depth: {depth}\")\n",
        "\n",
        "            layers_list = [\n",
        "                layers.Conv2D(size, kernel_size=(3, 3), input_shape=(28, 28, 1)),\n",
        "                layers.Activation(activation),\n",
        "            ]\n",
        "\n",
        "            for _ in range(depth - 1):  # Adding additional Conv2D layers based on depth\n",
        "                layers_list.extend([\n",
        "                    layers.Conv2D(size, kernel_size=(3, 3)),\n",
        "                    layers.Activation(activation),\n",
        "                ])\n",
        "\n",
        "            layers_list.extend([\n",
        "                layers.Flatten(),\n",
        "                layers.Dense(size * 2, activation=activation),  # Adjusting Dense layer size\n",
        "                layers.Dense(10, activation='softmax'),  # Output dense layer for 10 classes\n",
        "            ])\n",
        "\n",
        "            model = models.Sequential(layers_list)\n",
        "\n",
        "            # Compile the model\n",
        "            model.compile(optimizer='adam',\n",
        "                          loss='sparse_categorical_crossentropy',\n",
        "                          metrics=['accuracy'])\n",
        "\n",
        "            # Assuming ds_train and ds_test are your preprocessed datasets\n",
        "            history = model.fit(ds_train, epochs=2, validation_data=ds_test)\n",
        "\n",
        "            # Evaluate the model on the test set\n",
        "            test_loss, test_accuracy = model.evaluate(ds_test)\n",
        "            print(f'Test Loss: {test_loss}, Test Accuracy: {test_accuracy}')\n",
        "\n",
        "            # Append the results to the DataFrame\n",
        "            results_df = results_df.append({'Activation Function': activation,\n",
        "                                            'Network Size': size,\n",
        "                                            'Test Accuracy': test_accuracy}, ignore_index=True)\n",
        "\n",
        "# Display the final DataFrame\n",
        "print(results_df)\n",
        "\n",
        "# Save the DataFrame to a CSV file\n",
        "results_df.to_csv('experiment_results.csv', index=False)\n",
        "\n",
        "# Display the DataFrame in a table\n",
        "from IPython.display import display, HTML\n",
        "\n",
        "display(HTML(results_df.to_html()))\n"
      ]
    },
    {
      "cell_type": "markdown",
      "id": "883981cc-996f-4fa5-b242-85d22019962d",
      "metadata": {
        "id": "883981cc-996f-4fa5-b242-85d22019962d"
      },
      "source": [
        "The choice of activation functions can significantly impact the performance of your neural network. Let's analyze the results you've obtained with different activation functions:\n",
        "\n",
        "Sigmoid Activation:\n",
        "\n",
        "Training Accuracy: ~10%\n",
        "Test Accuracy: ~10%\n",
        "Sigmoid might not be suitable for deeper networks or convolutional layers due to the vanishing gradient problem.\n",
        "Softmax Activation:\n",
        "\n",
        "Training Accuracy: ~21%\n",
        "Test Accuracy: ~21%\n",
        "Using softmax in the hidden layers might not be suitable as it tends to squash input values, and using it in convolutional layers is not common.\n",
        "Softplus Activation:\n",
        "\n",
        "Training Accuracy: ~11%\n",
        "Test Accuracy: ~11%\n",
        "Softplus might not be well-suited for convolutional layers in this context.\n",
        "Tanh Activation:\n",
        "\n",
        "Training Accuracy: ~95%\n",
        "Test Accuracy: ~96%\n",
        "Tanh performs well in this context, capturing a good representation of the data.\n",
        "In summary, for convolutional layers in image classification tasks, commonly used activation functions like ReLU or variants (e.g., Leaky ReLU) are preferred. Sigmoid, Softmax, and Softplus activations are generally not suitable for hidden layers in convolutional neural networks (CNNs). Tanh can be a good choice, but ReLU is often preferred due to its simplicity and effectiveness.\n",
        "\n",
        "You may want to experiment further with ReLU or Leaky ReLU activations for the convolutional and dense layers."
      ]
    },
    {
      "cell_type": "markdown",
      "id": "d551585b-9135-44be-adbe-752b9f6f93f7",
      "metadata": {
        "tags": [],
        "id": "d551585b-9135-44be-adbe-752b9f6f93f7"
      },
      "source": [
        "- experiment with various optimizers (https://keras.io/api/optimizers/) and learning rate. What is the effect on the resulting model accuracy?"
      ]
    },
    {
      "cell_type": "code",
      "execution_count": null,
      "id": "9b398923-2f2c-480f-96cb-d89d81882451",
      "metadata": {
        "tags": [],
        "colab": {
          "base_uri": "https://localhost:8080/"
        },
        "id": "9b398923-2f2c-480f-96cb-d89d81882451",
        "outputId": "510af2f6-ce03-4175-d520-38f265724c23"
      },
      "outputs": [
        {
          "output_type": "stream",
          "name": "stdout",
          "text": [
            "\n",
            "Training with activation function: relu\n",
            "Epoch 1/2\n",
            "469/469 [==============================] - 6s 7ms/step - loss: 0.1826 - accuracy: 0.9456 - val_loss: 0.0573 - val_accuracy: 0.9819\n",
            "Epoch 2/2\n",
            "469/469 [==============================] - 3s 7ms/step - loss: 0.0500 - accuracy: 0.9847 - val_loss: 0.0441 - val_accuracy: 0.9860\n",
            "79/79 [==============================] - 0s 3ms/step - loss: 0.0441 - accuracy: 0.9860\n",
            "Test Loss: 0.044125743210315704, Test Accuracy: 0.9860000014305115\n",
            "\n",
            "Training with activation function: sigmoid\n",
            "Epoch 1/2\n"
          ]
        },
        {
          "output_type": "stream",
          "name": "stderr",
          "text": [
            "<ipython-input-14-d065a520580c>:32: FutureWarning: The frame.append method is deprecated and will be removed from pandas in a future version. Use pandas.concat instead.\n",
            "  results_df = results_df.append({'Activation Function': activation,\n"
          ]
        },
        {
          "output_type": "stream",
          "name": "stdout",
          "text": [
            "469/469 [==============================] - 5s 8ms/step - loss: 2.3239 - accuracy: 0.1096 - val_loss: 2.3018 - val_accuracy: 0.1135\n",
            "Epoch 2/2\n",
            "469/469 [==============================] - 3s 7ms/step - loss: 2.3026 - accuracy: 0.1093 - val_loss: 2.3019 - val_accuracy: 0.1135\n",
            "79/79 [==============================] - 0s 4ms/step - loss: 2.3019 - accuracy: 0.1135\n",
            "Test Loss: 2.3018550872802734, Test Accuracy: 0.11349999904632568\n",
            "\n",
            "Training with activation function: softmax\n",
            "Epoch 1/2\n"
          ]
        },
        {
          "output_type": "stream",
          "name": "stderr",
          "text": [
            "<ipython-input-14-d065a520580c>:32: FutureWarning: The frame.append method is deprecated and will be removed from pandas in a future version. Use pandas.concat instead.\n",
            "  results_df = results_df.append({'Activation Function': activation,\n"
          ]
        },
        {
          "output_type": "stream",
          "name": "stdout",
          "text": [
            "469/469 [==============================] - 6s 9ms/step - loss: 2.1854 - accuracy: 0.1745 - val_loss: 2.0444 - val_accuracy: 0.2098\n",
            "Epoch 2/2\n",
            "469/469 [==============================] - 4s 8ms/step - loss: 1.9819 - accuracy: 0.2063 - val_loss: 1.9292 - val_accuracy: 0.2123\n",
            "79/79 [==============================] - 0s 4ms/step - loss: 1.9292 - accuracy: 0.2123\n",
            "Test Loss: 1.9291759729385376, Test Accuracy: 0.21230000257492065\n",
            "\n",
            "Training with activation function: tanh\n",
            "Epoch 1/2\n"
          ]
        },
        {
          "output_type": "stream",
          "name": "stderr",
          "text": [
            "<ipython-input-14-d065a520580c>:32: FutureWarning: The frame.append method is deprecated and will be removed from pandas in a future version. Use pandas.concat instead.\n",
            "  results_df = results_df.append({'Activation Function': activation,\n"
          ]
        },
        {
          "output_type": "stream",
          "name": "stdout",
          "text": [
            "469/469 [==============================] - 5s 8ms/step - loss: 0.2680 - accuracy: 0.9229 - val_loss: 0.2029 - val_accuracy: 0.9384\n",
            "Epoch 2/2\n",
            "469/469 [==============================] - 3s 7ms/step - loss: 0.1737 - accuracy: 0.9498 - val_loss: 0.1488 - val_accuracy: 0.9559\n",
            "79/79 [==============================] - 0s 3ms/step - loss: 0.1488 - accuracy: 0.9559\n",
            "Test Loss: 0.14884410798549652, Test Accuracy: 0.9559000134468079\n",
            "\n",
            "Training with activation function: softplus\n",
            "Epoch 1/2\n"
          ]
        },
        {
          "output_type": "stream",
          "name": "stderr",
          "text": [
            "<ipython-input-14-d065a520580c>:32: FutureWarning: The frame.append method is deprecated and will be removed from pandas in a future version. Use pandas.concat instead.\n",
            "  results_df = results_df.append({'Activation Function': activation,\n"
          ]
        },
        {
          "output_type": "stream",
          "name": "stdout",
          "text": [
            "469/469 [==============================] - 5s 8ms/step - loss: 2.5331 - accuracy: 0.1111 - val_loss: 2.3008 - val_accuracy: 0.1135\n",
            "Epoch 2/2\n",
            "469/469 [==============================] - 4s 9ms/step - loss: 1.9953 - accuracy: 0.2644 - val_loss: 0.4566 - val_accuracy: 0.8687\n",
            "79/79 [==============================] - 0s 3ms/step - loss: 0.4566 - accuracy: 0.8687\n",
            "Test Loss: 0.45659947395324707, Test Accuracy: 0.8687000274658203\n",
            "\n",
            "Training with activation function: leaky_relu\n",
            "Epoch 1/2\n"
          ]
        },
        {
          "output_type": "stream",
          "name": "stderr",
          "text": [
            "<ipython-input-14-d065a520580c>:32: FutureWarning: The frame.append method is deprecated and will be removed from pandas in a future version. Use pandas.concat instead.\n",
            "  results_df = results_df.append({'Activation Function': activation,\n"
          ]
        },
        {
          "output_type": "stream",
          "name": "stdout",
          "text": [
            "469/469 [==============================] - 5s 8ms/step - loss: 0.1806 - accuracy: 0.9469 - val_loss: 0.0691 - val_accuracy: 0.9767\n",
            "Epoch 2/2\n",
            "469/469 [==============================] - 4s 8ms/step - loss: 0.0555 - accuracy: 0.9827 - val_loss: 0.0489 - val_accuracy: 0.9835\n",
            "79/79 [==============================] - 0s 4ms/step - loss: 0.0489 - accuracy: 0.9835\n",
            "Test Loss: 0.04891601949930191, Test Accuracy: 0.9835000038146973\n",
            "  Activation Function  Test Accuracy\n",
            "0                relu         0.9860\n",
            "1             sigmoid         0.1135\n",
            "2             softmax         0.2123\n",
            "3                tanh         0.9559\n",
            "4            softplus         0.8687\n",
            "5          leaky_relu         0.9835\n"
          ]
        },
        {
          "output_type": "stream",
          "name": "stderr",
          "text": [
            "<ipython-input-14-d065a520580c>:32: FutureWarning: The frame.append method is deprecated and will be removed from pandas in a future version. Use pandas.concat instead.\n",
            "  results_df = results_df.append({'Activation Function': activation,\n"
          ]
        }
      ],
      "source": [
        "# Create an empty DataFrame to store the results\n",
        "results_df = pd.DataFrame(columns=['Activation Function', 'Test Accuracy'])\n",
        "\n",
        "activations_to_try = ['relu', 'sigmoid', 'softmax', 'tanh', 'softplus', 'leaky_relu']\n",
        "\n",
        "for activation in activations_to_try:\n",
        "    print(f\"\\nTraining with activation function: {activation}\")\n",
        "\n",
        "    model = models.Sequential([\n",
        "        layers.Conv2D(32, kernel_size=(3, 3), input_shape=(28, 28, 1)),\n",
        "        layers.Activation(activation),\n",
        "        layers.Conv2D(32, kernel_size=(3, 3)),\n",
        "        layers.Activation(activation),\n",
        "        layers.Flatten(),\n",
        "        layers.Dense(64, activation=activation),\n",
        "        layers.Dense(10, activation='softmax')  # Output dense layer for 10 classes\n",
        "    ])\n",
        "\n",
        "    # Compile the model\n",
        "    model.compile(optimizer='adam',\n",
        "                  loss='sparse_categorical_crossentropy',\n",
        "                  metrics=['accuracy'])\n",
        "\n",
        "    # Assuming ds_train and ds_test are your preprocessed datasets\n",
        "    history = model.fit(ds_train, epochs=2, validation_data=ds_test)\n",
        "\n",
        "    # Evaluate the model on the test set\n",
        "    test_loss, test_accuracy = model.evaluate(ds_test)\n",
        "    print(f'Test Loss: {test_loss}, Test Accuracy: {test_accuracy}')\n",
        "\n",
        "    # Append the results to the DataFrame\n",
        "    results_df = results_df.append({'Activation Function': activation,\n",
        "                                    'Test Accuracy': test_accuracy}, ignore_index=True)\n",
        "\n",
        "# Display the final DataFrame\n",
        "print(results_df)\n"
      ]
    },
    {
      "cell_type": "markdown",
      "id": "50e9a3c4-d46f-43c8-a0ab-ab72a633fd11",
      "metadata": {
        "tags": [],
        "id": "50e9a3c4-d46f-43c8-a0ab-ab72a633fd11"
      },
      "source": [
        "- with all the above variations, experiment with various batch sizes and epochs for training (see https://keras.io/api/models/model_training_apis/)"
      ]
    },
    {
      "cell_type": "code",
      "execution_count": null,
      "id": "f916d920-e3a2-44da-929a-a479258ba474",
      "metadata": {
        "tags": [],
        "colab": {
          "base_uri": "https://localhost:8080/"
        },
        "id": "f916d920-e3a2-44da-929a-a479258ba474",
        "outputId": "158e0946-7c8d-4339-ef56-e4051363c851"
      },
      "outputs": [
        {
          "output_type": "stream",
          "name": "stdout",
          "text": [
            "\n",
            "Training with batch size 16 and epochs 2\n",
            "Epoch 1/2\n",
            "469/469 [==============================] - 6s 8ms/step - loss: 0.1635 - accuracy: 0.9508 - val_loss: 0.0556 - val_accuracy: 0.9823\n",
            "Epoch 2/2\n",
            "469/469 [==============================] - 3s 6ms/step - loss: 0.0500 - accuracy: 0.9848 - val_loss: 0.0410 - val_accuracy: 0.9872\n",
            "79/79 [==============================] - 0s 3ms/step - loss: 0.0410 - accuracy: 0.9872\n",
            "Test Loss: 0.04099832847714424, Test Accuracy: 0.9872000217437744\n",
            "\n",
            "Training with batch size 16 and epochs 4\n",
            "Epoch 1/4\n"
          ]
        },
        {
          "output_type": "stream",
          "name": "stderr",
          "text": [
            "<ipython-input-17-ca1dbaed57f0>:34: FutureWarning: The frame.append method is deprecated and will be removed from pandas in a future version. Use pandas.concat instead.\n",
            "  results_df = results_df.append({'Batch Size': batch_size,\n"
          ]
        },
        {
          "output_type": "stream",
          "name": "stdout",
          "text": [
            "469/469 [==============================] - 5s 7ms/step - loss: 0.1759 - accuracy: 0.9484 - val_loss: 0.0669 - val_accuracy: 0.9787\n",
            "Epoch 2/4\n",
            "469/469 [==============================] - 4s 7ms/step - loss: 0.0492 - accuracy: 0.9852 - val_loss: 0.0467 - val_accuracy: 0.9853\n",
            "Epoch 3/4\n",
            "469/469 [==============================] - 3s 7ms/step - loss: 0.0301 - accuracy: 0.9908 - val_loss: 0.0425 - val_accuracy: 0.9871\n",
            "Epoch 4/4\n",
            "469/469 [==============================] - 3s 7ms/step - loss: 0.0211 - accuracy: 0.9934 - val_loss: 0.0378 - val_accuracy: 0.9878\n",
            "79/79 [==============================] - 0s 3ms/step - loss: 0.0378 - accuracy: 0.9878\n",
            "Test Loss: 0.0377826951444149, Test Accuracy: 0.9878000020980835\n",
            "\n",
            "Training with batch size 16 and epochs 6\n",
            "Epoch 1/6\n"
          ]
        },
        {
          "output_type": "stream",
          "name": "stderr",
          "text": [
            "<ipython-input-17-ca1dbaed57f0>:34: FutureWarning: The frame.append method is deprecated and will be removed from pandas in a future version. Use pandas.concat instead.\n",
            "  results_df = results_df.append({'Batch Size': batch_size,\n"
          ]
        },
        {
          "output_type": "stream",
          "name": "stdout",
          "text": [
            "469/469 [==============================] - 5s 7ms/step - loss: 0.1665 - accuracy: 0.9502 - val_loss: 0.0535 - val_accuracy: 0.9826\n",
            "Epoch 2/6\n",
            "469/469 [==============================] - 3s 6ms/step - loss: 0.0474 - accuracy: 0.9852 - val_loss: 0.0486 - val_accuracy: 0.9857\n",
            "Epoch 3/6\n",
            "469/469 [==============================] - 3s 7ms/step - loss: 0.0310 - accuracy: 0.9901 - val_loss: 0.0363 - val_accuracy: 0.9878\n",
            "Epoch 4/6\n",
            "469/469 [==============================] - 3s 7ms/step - loss: 0.0210 - accuracy: 0.9932 - val_loss: 0.0452 - val_accuracy: 0.9853\n",
            "Epoch 5/6\n",
            "469/469 [==============================] - 4s 7ms/step - loss: 0.0132 - accuracy: 0.9959 - val_loss: 0.0452 - val_accuracy: 0.9866\n",
            "Epoch 6/6\n",
            "469/469 [==============================] - 3s 7ms/step - loss: 0.0104 - accuracy: 0.9964 - val_loss: 0.0506 - val_accuracy: 0.9866\n",
            "79/79 [==============================] - 0s 4ms/step - loss: 0.0506 - accuracy: 0.9866\n",
            "Test Loss: 0.05060417950153351, Test Accuracy: 0.9865999817848206\n",
            "\n",
            "Training with batch size 32 and epochs 2\n",
            "Epoch 1/2\n"
          ]
        },
        {
          "output_type": "stream",
          "name": "stderr",
          "text": [
            "<ipython-input-17-ca1dbaed57f0>:34: FutureWarning: The frame.append method is deprecated and will be removed from pandas in a future version. Use pandas.concat instead.\n",
            "  results_df = results_df.append({'Batch Size': batch_size,\n"
          ]
        },
        {
          "output_type": "stream",
          "name": "stdout",
          "text": [
            "469/469 [==============================] - 5s 8ms/step - loss: 0.1743 - accuracy: 0.9474 - val_loss: 0.0612 - val_accuracy: 0.9795\n",
            "Epoch 2/2\n",
            "469/469 [==============================] - 3s 6ms/step - loss: 0.0523 - accuracy: 0.9841 - val_loss: 0.0483 - val_accuracy: 0.9839\n",
            "79/79 [==============================] - 0s 3ms/step - loss: 0.0483 - accuracy: 0.9839\n",
            "Test Loss: 0.048292167484760284, Test Accuracy: 0.9839000105857849\n",
            "\n",
            "Training with batch size 32 and epochs 4\n",
            "Epoch 1/4\n"
          ]
        },
        {
          "output_type": "stream",
          "name": "stderr",
          "text": [
            "<ipython-input-17-ca1dbaed57f0>:34: FutureWarning: The frame.append method is deprecated and will be removed from pandas in a future version. Use pandas.concat instead.\n",
            "  results_df = results_df.append({'Batch Size': batch_size,\n"
          ]
        },
        {
          "output_type": "stream",
          "name": "stdout",
          "text": [
            "469/469 [==============================] - 5s 7ms/step - loss: 0.1677 - accuracy: 0.9502 - val_loss: 0.0646 - val_accuracy: 0.9789\n",
            "Epoch 2/4\n",
            "469/469 [==============================] - 4s 7ms/step - loss: 0.0507 - accuracy: 0.9844 - val_loss: 0.0482 - val_accuracy: 0.9838\n",
            "Epoch 3/4\n",
            "469/469 [==============================] - 3s 7ms/step - loss: 0.0304 - accuracy: 0.9906 - val_loss: 0.0354 - val_accuracy: 0.9882\n",
            "Epoch 4/4\n",
            "469/469 [==============================] - 3s 7ms/step - loss: 0.0206 - accuracy: 0.9936 - val_loss: 0.0418 - val_accuracy: 0.9867\n",
            "79/79 [==============================] - 0s 4ms/step - loss: 0.0418 - accuracy: 0.9867\n",
            "Test Loss: 0.04178410768508911, Test Accuracy: 0.9866999983787537\n",
            "\n",
            "Training with batch size 32 and epochs 6\n",
            "Epoch 1/6\n"
          ]
        },
        {
          "output_type": "stream",
          "name": "stderr",
          "text": [
            "<ipython-input-17-ca1dbaed57f0>:34: FutureWarning: The frame.append method is deprecated and will be removed from pandas in a future version. Use pandas.concat instead.\n",
            "  results_df = results_df.append({'Batch Size': batch_size,\n"
          ]
        },
        {
          "output_type": "stream",
          "name": "stdout",
          "text": [
            "469/469 [==============================] - 5s 7ms/step - loss: 0.1597 - accuracy: 0.9521 - val_loss: 0.0589 - val_accuracy: 0.9798\n",
            "Epoch 2/6\n",
            "469/469 [==============================] - 3s 7ms/step - loss: 0.0443 - accuracy: 0.9860 - val_loss: 0.0429 - val_accuracy: 0.9866\n",
            "Epoch 3/6\n",
            "469/469 [==============================] - 3s 7ms/step - loss: 0.0250 - accuracy: 0.9923 - val_loss: 0.0383 - val_accuracy: 0.9873\n",
            "Epoch 4/6\n",
            "469/469 [==============================] - 3s 7ms/step - loss: 0.0174 - accuracy: 0.9950 - val_loss: 0.0493 - val_accuracy: 0.9855\n",
            "Epoch 5/6\n",
            "469/469 [==============================] - 3s 7ms/step - loss: 0.0130 - accuracy: 0.9957 - val_loss: 0.0447 - val_accuracy: 0.9863\n",
            "Epoch 6/6\n",
            "469/469 [==============================] - 4s 8ms/step - loss: 0.0091 - accuracy: 0.9969 - val_loss: 0.0457 - val_accuracy: 0.9877\n",
            "79/79 [==============================] - 0s 3ms/step - loss: 0.0457 - accuracy: 0.9877\n",
            "Test Loss: 0.04574454575777054, Test Accuracy: 0.9876999855041504\n",
            "\n",
            "Training with batch size 64 and epochs 2\n",
            "Epoch 1/2\n"
          ]
        },
        {
          "output_type": "stream",
          "name": "stderr",
          "text": [
            "<ipython-input-17-ca1dbaed57f0>:34: FutureWarning: The frame.append method is deprecated and will be removed from pandas in a future version. Use pandas.concat instead.\n",
            "  results_df = results_df.append({'Batch Size': batch_size,\n"
          ]
        },
        {
          "output_type": "stream",
          "name": "stdout",
          "text": [
            "469/469 [==============================] - 5s 7ms/step - loss: 0.1653 - accuracy: 0.9501 - val_loss: 0.0597 - val_accuracy: 0.9813\n",
            "Epoch 2/2\n",
            "469/469 [==============================] - 3s 7ms/step - loss: 0.0456 - accuracy: 0.9862 - val_loss: 0.0435 - val_accuracy: 0.9849\n",
            "79/79 [==============================] - 0s 3ms/step - loss: 0.0435 - accuracy: 0.9849\n",
            "Test Loss: 0.043542999774217606, Test Accuracy: 0.9848999977111816\n",
            "\n",
            "Training with batch size 64 and epochs 4\n",
            "Epoch 1/4\n"
          ]
        },
        {
          "output_type": "stream",
          "name": "stderr",
          "text": [
            "<ipython-input-17-ca1dbaed57f0>:34: FutureWarning: The frame.append method is deprecated and will be removed from pandas in a future version. Use pandas.concat instead.\n",
            "  results_df = results_df.append({'Batch Size': batch_size,\n"
          ]
        },
        {
          "output_type": "stream",
          "name": "stdout",
          "text": [
            "469/469 [==============================] - 5s 7ms/step - loss: 0.1764 - accuracy: 0.9481 - val_loss: 0.0646 - val_accuracy: 0.9789\n",
            "Epoch 2/4\n",
            "469/469 [==============================] - 3s 7ms/step - loss: 0.0509 - accuracy: 0.9847 - val_loss: 0.0411 - val_accuracy: 0.9864\n",
            "Epoch 3/4\n",
            "469/469 [==============================] - 3s 7ms/step - loss: 0.0312 - accuracy: 0.9900 - val_loss: 0.0403 - val_accuracy: 0.9871\n",
            "Epoch 4/4\n",
            "469/469 [==============================] - 3s 7ms/step - loss: 0.0192 - accuracy: 0.9939 - val_loss: 0.0378 - val_accuracy: 0.9884\n",
            "79/79 [==============================] - 0s 4ms/step - loss: 0.0378 - accuracy: 0.9884\n",
            "Test Loss: 0.037761300802230835, Test Accuracy: 0.9883999824523926\n",
            "\n",
            "Training with batch size 64 and epochs 6\n",
            "Epoch 1/6\n"
          ]
        },
        {
          "output_type": "stream",
          "name": "stderr",
          "text": [
            "<ipython-input-17-ca1dbaed57f0>:34: FutureWarning: The frame.append method is deprecated and will be removed from pandas in a future version. Use pandas.concat instead.\n",
            "  results_df = results_df.append({'Batch Size': batch_size,\n"
          ]
        },
        {
          "output_type": "stream",
          "name": "stdout",
          "text": [
            "469/469 [==============================] - 5s 8ms/step - loss: 0.1726 - accuracy: 0.9456 - val_loss: 0.0539 - val_accuracy: 0.9836\n",
            "Epoch 2/6\n",
            "469/469 [==============================] - 3s 7ms/step - loss: 0.0464 - accuracy: 0.9860 - val_loss: 0.0458 - val_accuracy: 0.9852\n",
            "Epoch 3/6\n",
            "469/469 [==============================] - 3s 7ms/step - loss: 0.0279 - accuracy: 0.9913 - val_loss: 0.0368 - val_accuracy: 0.9880\n",
            "Epoch 4/6\n",
            "469/469 [==============================] - 4s 8ms/step - loss: 0.0199 - accuracy: 0.9936 - val_loss: 0.0414 - val_accuracy: 0.9871\n",
            "Epoch 5/6\n",
            "469/469 [==============================] - 3s 7ms/step - loss: 0.0144 - accuracy: 0.9953 - val_loss: 0.0363 - val_accuracy: 0.9886\n",
            "Epoch 6/6\n",
            "469/469 [==============================] - 3s 7ms/step - loss: 0.0111 - accuracy: 0.9963 - val_loss: 0.0448 - val_accuracy: 0.9866\n",
            "79/79 [==============================] - 0s 3ms/step - loss: 0.0448 - accuracy: 0.9866\n",
            "Test Loss: 0.04479970037937164, Test Accuracy: 0.9865999817848206\n",
            "   Batch Size  Epochs  Test Accuracy\n",
            "0        16.0     2.0         0.9872\n",
            "1        16.0     4.0         0.9878\n",
            "2        16.0     6.0         0.9866\n",
            "3        32.0     2.0         0.9839\n",
            "4        32.0     4.0         0.9867\n",
            "5        32.0     6.0         0.9877\n",
            "6        64.0     2.0         0.9849\n",
            "7        64.0     4.0         0.9884\n",
            "8        64.0     6.0         0.9866\n"
          ]
        },
        {
          "output_type": "stream",
          "name": "stderr",
          "text": [
            "<ipython-input-17-ca1dbaed57f0>:34: FutureWarning: The frame.append method is deprecated and will be removed from pandas in a future version. Use pandas.concat instead.\n",
            "  results_df = results_df.append({'Batch Size': batch_size,\n"
          ]
        }
      ],
      "source": [
        "import pandas as pd\n",
        "\n",
        "# Create an empty DataFrame to store the results\n",
        "results_df = pd.DataFrame(columns=['Batch Size', 'Epochs', 'Test Accuracy'])\n",
        "\n",
        "batch_sizes = [16, 32, 64]  # You can add more batch sizes to experiment with\n",
        "epochs_list = [2, 4, 6]   # You can add more epoch values to experiment with\n",
        "\n",
        "for batch_size in batch_sizes:\n",
        "    for epochs in epochs_list:\n",
        "        print(f\"\\nTraining with batch size {batch_size} and epochs {epochs}\")\n",
        "\n",
        "        model = models.Sequential([\n",
        "            layers.Conv2D(32, (3, 3), activation='relu', input_shape=(28, 28, 1)),\n",
        "            layers.Conv2D(32, (3, 3), activation='relu'),\n",
        "            layers.Flatten(),\n",
        "            layers.Dense(64, activation='relu'),\n",
        "            layers.Dense(10, activation='softmax')  # Output dense layer for 10 classes\n",
        "        ])\n",
        "\n",
        "        # Compile the model\n",
        "        model.compile(optimizer='adam',\n",
        "                      loss='sparse_categorical_crossentropy',\n",
        "                      metrics=['accuracy'])\n",
        "\n",
        "        # Assuming ds_train and ds_test are your preprocessed datasets\n",
        "        history = model.fit(ds_train, batch_size=batch_size, epochs=epochs, validation_data=ds_test) #default batch size is 32\n",
        "\n",
        "        # Evaluate the model on the test set\n",
        "        test_loss, test_accuracy = model.evaluate(ds_test)\n",
        "        print(f'Test Loss: {test_loss}, Test Accuracy: {test_accuracy}')\n",
        "\n",
        "        # Append the results to the DataFrame\n",
        "        results_df = results_df.append({'Batch Size': batch_size,\n",
        "                                        'Epochs': epochs,\n",
        "                                        'Test Accuracy': test_accuracy}, ignore_index=True)\n",
        "\n",
        "# Display the final DataFrame\n",
        "print(results_df)\n"
      ]
    },
    {
      "cell_type": "markdown",
      "id": "82350df1-e8cd-45da-bc16-2e78da475b92",
      "metadata": {
        "tags": [],
        "id": "82350df1-e8cd-45da-bc16-2e78da475b92"
      },
      "source": [
        "- what happens if we don't use any CNN layer? (considering the model in https://www.tensorflow.org/datasets/keras_example)."
      ]
    },
    {
      "cell_type": "code",
      "execution_count": null,
      "id": "842433c5-b21d-43e4-98c5-bde2dcd9ea90",
      "metadata": {
        "tags": [],
        "colab": {
          "base_uri": "https://localhost:8080/"
        },
        "id": "842433c5-b21d-43e4-98c5-bde2dcd9ea90",
        "outputId": "8ce6cabf-12d4-41cd-e6a0-501965295c06"
      },
      "outputs": [
        {
          "output_type": "stream",
          "name": "stdout",
          "text": [
            "\n",
            "\n",
            "Training with Dense Layer Size: 64, Batch Size: 32, Epochs: 2\n",
            "Epoch 1/2\n",
            "469/469 [==============================] - 3s 4ms/step - loss: 0.4056 - accuracy: 0.8895 - val_loss: 0.2235 - val_accuracy: 0.9358\n",
            "Epoch 2/2\n",
            "469/469 [==============================] - 2s 4ms/step - loss: 0.1966 - accuracy: 0.9438 - val_loss: 0.1673 - val_accuracy: 0.9522\n",
            "79/79 [==============================] - 0s 2ms/step - loss: 0.1673 - accuracy: 0.9522\n",
            "Test Loss: 0.1673009693622589, Test Accuracy: 0.9521999955177307\n",
            "\n",
            "\n",
            "Training with Dense Layer Size: 64, Batch Size: 32, Epochs: 4\n",
            "Epoch 1/4\n",
            " 34/469 [=>............................] - ETA: 1s - loss: 0.1682 - accuracy: 0.9543"
          ]
        },
        {
          "output_type": "stream",
          "name": "stderr",
          "text": [
            "<ipython-input-18-9f615c904829>:38: FutureWarning: The frame.append method is deprecated and will be removed from pandas in a future version. Use pandas.concat instead.\n",
            "  results_df = results_df.append({'Dense Layer Size': dense_size,\n"
          ]
        },
        {
          "output_type": "stream",
          "name": "stdout",
          "text": [
            "469/469 [==============================] - 2s 5ms/step - loss: 0.1489 - accuracy: 0.9572 - val_loss: 0.1372 - val_accuracy: 0.9597\n",
            "Epoch 2/4\n",
            "469/469 [==============================] - 2s 4ms/step - loss: 0.1213 - accuracy: 0.9652 - val_loss: 0.1193 - val_accuracy: 0.9639\n",
            "Epoch 3/4\n",
            "469/469 [==============================] - 2s 4ms/step - loss: 0.1017 - accuracy: 0.9704 - val_loss: 0.1110 - val_accuracy: 0.9679\n",
            "Epoch 4/4\n",
            "469/469 [==============================] - 2s 4ms/step - loss: 0.0879 - accuracy: 0.9750 - val_loss: 0.1042 - val_accuracy: 0.9703\n",
            "79/79 [==============================] - 0s 2ms/step - loss: 0.1042 - accuracy: 0.9703\n",
            "Test Loss: 0.10420997440814972, Test Accuracy: 0.970300018787384\n",
            "\n",
            "\n",
            "Training with Dense Layer Size: 64, Batch Size: 64, Epochs: 2\n",
            "Epoch 1/2\n",
            " 33/469 [=>............................] - ETA: 1s - loss: 0.0770 - accuracy: 0.9770"
          ]
        },
        {
          "output_type": "stream",
          "name": "stderr",
          "text": [
            "<ipython-input-18-9f615c904829>:38: FutureWarning: The frame.append method is deprecated and will be removed from pandas in a future version. Use pandas.concat instead.\n",
            "  results_df = results_df.append({'Dense Layer Size': dense_size,\n"
          ]
        },
        {
          "output_type": "stream",
          "name": "stdout",
          "text": [
            "469/469 [==============================] - 2s 4ms/step - loss: 0.0774 - accuracy: 0.9780 - val_loss: 0.0964 - val_accuracy: 0.9705\n",
            "Epoch 2/2\n",
            "469/469 [==============================] - 2s 5ms/step - loss: 0.0691 - accuracy: 0.9794 - val_loss: 0.0905 - val_accuracy: 0.9728\n",
            "79/79 [==============================] - 0s 4ms/step - loss: 0.0905 - accuracy: 0.9728\n",
            "Test Loss: 0.09053493291139603, Test Accuracy: 0.9728000164031982\n",
            "\n",
            "\n",
            "Training with Dense Layer Size: 64, Batch Size: 64, Epochs: 4\n",
            "Epoch 1/4\n",
            " 31/469 [>.............................] - ETA: 1s - loss: 0.0690 - accuracy: 0.9798"
          ]
        },
        {
          "output_type": "stream",
          "name": "stderr",
          "text": [
            "<ipython-input-18-9f615c904829>:38: FutureWarning: The frame.append method is deprecated and will be removed from pandas in a future version. Use pandas.concat instead.\n",
            "  results_df = results_df.append({'Dense Layer Size': dense_size,\n"
          ]
        },
        {
          "output_type": "stream",
          "name": "stdout",
          "text": [
            "469/469 [==============================] - 2s 4ms/step - loss: 0.0605 - accuracy: 0.9818 - val_loss: 0.0903 - val_accuracy: 0.9724\n",
            "Epoch 2/4\n",
            "469/469 [==============================] - 2s 4ms/step - loss: 0.0544 - accuracy: 0.9844 - val_loss: 0.0885 - val_accuracy: 0.9735\n",
            "Epoch 3/4\n",
            "469/469 [==============================] - 2s 4ms/step - loss: 0.0488 - accuracy: 0.9861 - val_loss: 0.0843 - val_accuracy: 0.9744\n",
            "Epoch 4/4\n",
            "469/469 [==============================] - 2s 4ms/step - loss: 0.0442 - accuracy: 0.9877 - val_loss: 0.0882 - val_accuracy: 0.9738\n",
            "79/79 [==============================] - 0s 2ms/step - loss: 0.0882 - accuracy: 0.9738\n",
            "Test Loss: 0.08816337585449219, Test Accuracy: 0.973800003528595\n",
            "\n",
            "\n",
            "Training with Dense Layer Size: 128, Batch Size: 32, Epochs: 2\n",
            "Epoch 1/2\n"
          ]
        },
        {
          "output_type": "stream",
          "name": "stderr",
          "text": [
            "<ipython-input-18-9f615c904829>:38: FutureWarning: The frame.append method is deprecated and will be removed from pandas in a future version. Use pandas.concat instead.\n",
            "  results_df = results_df.append({'Dense Layer Size': dense_size,\n"
          ]
        },
        {
          "output_type": "stream",
          "name": "stdout",
          "text": [
            "469/469 [==============================] - 4s 5ms/step - loss: 0.0418 - accuracy: 0.9878 - val_loss: 0.0856 - val_accuracy: 0.9734\n",
            "Epoch 2/2\n",
            "469/469 [==============================] - 2s 4ms/step - loss: 0.0364 - accuracy: 0.9894 - val_loss: 0.0825 - val_accuracy: 0.9745\n",
            "79/79 [==============================] - 0s 2ms/step - loss: 0.0825 - accuracy: 0.9745\n",
            "Test Loss: 0.08248522132635117, Test Accuracy: 0.9745000004768372\n",
            "\n",
            "\n",
            "Training with Dense Layer Size: 128, Batch Size: 32, Epochs: 4\n",
            "Epoch 1/4\n",
            " 32/469 [=>............................] - ETA: 1s - loss: 0.0268 - accuracy: 0.9937"
          ]
        },
        {
          "output_type": "stream",
          "name": "stderr",
          "text": [
            "<ipython-input-18-9f615c904829>:38: FutureWarning: The frame.append method is deprecated and will be removed from pandas in a future version. Use pandas.concat instead.\n",
            "  results_df = results_df.append({'Dense Layer Size': dense_size,\n"
          ]
        },
        {
          "output_type": "stream",
          "name": "stdout",
          "text": [
            "469/469 [==============================] - 2s 4ms/step - loss: 0.0330 - accuracy: 0.9908 - val_loss: 0.0836 - val_accuracy: 0.9749\n",
            "Epoch 2/4\n",
            "469/469 [==============================] - 2s 4ms/step - loss: 0.0291 - accuracy: 0.9919 - val_loss: 0.0778 - val_accuracy: 0.9770\n",
            "Epoch 3/4\n",
            "469/469 [==============================] - 2s 4ms/step - loss: 0.0269 - accuracy: 0.9930 - val_loss: 0.0777 - val_accuracy: 0.9763\n",
            "Epoch 4/4\n",
            "469/469 [==============================] - 2s 5ms/step - loss: 0.0251 - accuracy: 0.9933 - val_loss: 0.0822 - val_accuracy: 0.9768\n",
            "79/79 [==============================] - 0s 2ms/step - loss: 0.0822 - accuracy: 0.9768\n",
            "Test Loss: 0.08221729099750519, Test Accuracy: 0.9768000245094299\n",
            "\n",
            "\n",
            "Training with Dense Layer Size: 128, Batch Size: 64, Epochs: 2\n",
            "Epoch 1/2\n",
            " 33/469 [=>............................] - ETA: 1s - loss: 0.0194 - accuracy: 0.9946"
          ]
        },
        {
          "output_type": "stream",
          "name": "stderr",
          "text": [
            "<ipython-input-18-9f615c904829>:38: FutureWarning: The frame.append method is deprecated and will be removed from pandas in a future version. Use pandas.concat instead.\n",
            "  results_df = results_df.append({'Dense Layer Size': dense_size,\n"
          ]
        },
        {
          "output_type": "stream",
          "name": "stdout",
          "text": [
            "469/469 [==============================] - 2s 4ms/step - loss: 0.0223 - accuracy: 0.9941 - val_loss: 0.0829 - val_accuracy: 0.9760\n",
            "Epoch 2/2\n",
            "469/469 [==============================] - 2s 4ms/step - loss: 0.0200 - accuracy: 0.9954 - val_loss: 0.0861 - val_accuracy: 0.9751\n",
            "79/79 [==============================] - 0s 2ms/step - loss: 0.0861 - accuracy: 0.9751\n",
            "Test Loss: 0.08606577664613724, Test Accuracy: 0.9750999808311462\n",
            "\n",
            "\n",
            "Training with Dense Layer Size: 128, Batch Size: 64, Epochs: 4\n",
            "Epoch 1/4\n",
            " 33/469 [=>............................] - ETA: 1s - loss: 0.0158 - accuracy: 0.9967"
          ]
        },
        {
          "output_type": "stream",
          "name": "stderr",
          "text": [
            "<ipython-input-18-9f615c904829>:38: FutureWarning: The frame.append method is deprecated and will be removed from pandas in a future version. Use pandas.concat instead.\n",
            "  results_df = results_df.append({'Dense Layer Size': dense_size,\n"
          ]
        },
        {
          "output_type": "stream",
          "name": "stdout",
          "text": [
            "469/469 [==============================] - 2s 4ms/step - loss: 0.0184 - accuracy: 0.9953 - val_loss: 0.0904 - val_accuracy: 0.9750\n",
            "Epoch 2/4\n",
            "469/469 [==============================] - 2s 4ms/step - loss: 0.0170 - accuracy: 0.9958 - val_loss: 0.0890 - val_accuracy: 0.9749\n",
            "Epoch 3/4\n",
            "469/469 [==============================] - 2s 5ms/step - loss: 0.0146 - accuracy: 0.9966 - val_loss: 0.0894 - val_accuracy: 0.9758\n",
            "Epoch 4/4\n",
            "469/469 [==============================] - 2s 4ms/step - loss: 0.0139 - accuracy: 0.9970 - val_loss: 0.0911 - val_accuracy: 0.9744\n",
            "79/79 [==============================] - 0s 2ms/step - loss: 0.0911 - accuracy: 0.9744\n",
            "Test Loss: 0.09110840409994125, Test Accuracy: 0.974399983882904\n",
            "\n",
            "\n",
            "Training with Dense Layer Size: 256, Batch Size: 32, Epochs: 2\n",
            "Epoch 1/2\n"
          ]
        },
        {
          "output_type": "stream",
          "name": "stderr",
          "text": [
            "<ipython-input-18-9f615c904829>:38: FutureWarning: The frame.append method is deprecated and will be removed from pandas in a future version. Use pandas.concat instead.\n",
            "  results_df = results_df.append({'Dense Layer Size': dense_size,\n"
          ]
        },
        {
          "output_type": "stream",
          "name": "stdout",
          "text": [
            "469/469 [==============================] - 3s 4ms/step - loss: 0.0141 - accuracy: 0.9967 - val_loss: 0.0940 - val_accuracy: 0.9748\n",
            "Epoch 2/2\n",
            "469/469 [==============================] - 2s 4ms/step - loss: 0.0114 - accuracy: 0.9976 - val_loss: 0.0922 - val_accuracy: 0.9751\n",
            "79/79 [==============================] - 0s 2ms/step - loss: 0.0922 - accuracy: 0.9751\n",
            "Test Loss: 0.09224540740251541, Test Accuracy: 0.9750999808311462\n",
            "\n",
            "\n",
            "Training with Dense Layer Size: 256, Batch Size: 32, Epochs: 4\n",
            "Epoch 1/4\n",
            " 33/469 [=>............................] - ETA: 1s - loss: 0.0067 - accuracy: 0.9991"
          ]
        },
        {
          "output_type": "stream",
          "name": "stderr",
          "text": [
            "<ipython-input-18-9f615c904829>:38: FutureWarning: The frame.append method is deprecated and will be removed from pandas in a future version. Use pandas.concat instead.\n",
            "  results_df = results_df.append({'Dense Layer Size': dense_size,\n"
          ]
        },
        {
          "output_type": "stream",
          "name": "stdout",
          "text": [
            "469/469 [==============================] - 2s 4ms/step - loss: 0.0102 - accuracy: 0.9979 - val_loss: 0.0921 - val_accuracy: 0.9749\n",
            "Epoch 2/4\n",
            "469/469 [==============================] - 2s 5ms/step - loss: 0.0091 - accuracy: 0.9983 - val_loss: 0.0924 - val_accuracy: 0.9761\n",
            "Epoch 3/4\n",
            "469/469 [==============================] - 2s 4ms/step - loss: 0.0089 - accuracy: 0.9983 - val_loss: 0.0989 - val_accuracy: 0.9740\n",
            "Epoch 4/4\n",
            "469/469 [==============================] - 2s 4ms/step - loss: 0.0078 - accuracy: 0.9986 - val_loss: 0.0969 - val_accuracy: 0.9750\n",
            "79/79 [==============================] - 0s 2ms/step - loss: 0.0969 - accuracy: 0.9750\n",
            "Test Loss: 0.09691839665174484, Test Accuracy: 0.9750000238418579\n",
            "\n",
            "\n",
            "Training with Dense Layer Size: 256, Batch Size: 64, Epochs: 2\n",
            "Epoch 1/2\n",
            " 31/469 [>.............................] - ETA: 1s - loss: 0.0079 - accuracy: 0.9987"
          ]
        },
        {
          "output_type": "stream",
          "name": "stderr",
          "text": [
            "<ipython-input-18-9f615c904829>:38: FutureWarning: The frame.append method is deprecated and will be removed from pandas in a future version. Use pandas.concat instead.\n",
            "  results_df = results_df.append({'Dense Layer Size': dense_size,\n"
          ]
        },
        {
          "output_type": "stream",
          "name": "stdout",
          "text": [
            "469/469 [==============================] - 2s 4ms/step - loss: 0.0062 - accuracy: 0.9991 - val_loss: 0.0946 - val_accuracy: 0.9756\n",
            "Epoch 2/2\n",
            "469/469 [==============================] - 2s 4ms/step - loss: 0.0073 - accuracy: 0.9985 - val_loss: 0.1011 - val_accuracy: 0.9765\n",
            "79/79 [==============================] - 0s 3ms/step - loss: 0.1011 - accuracy: 0.9765\n",
            "Test Loss: 0.1010635644197464, Test Accuracy: 0.9764999747276306\n",
            "\n",
            "\n",
            "Training with Dense Layer Size: 256, Batch Size: 64, Epochs: 4\n",
            "Epoch 1/4\n",
            " 11/469 [..............................] - ETA: 2s - loss: 0.0038 - accuracy: 1.0000 "
          ]
        },
        {
          "output_type": "stream",
          "name": "stderr",
          "text": [
            "<ipython-input-18-9f615c904829>:38: FutureWarning: The frame.append method is deprecated and will be removed from pandas in a future version. Use pandas.concat instead.\n",
            "  results_df = results_df.append({'Dense Layer Size': dense_size,\n"
          ]
        },
        {
          "output_type": "stream",
          "name": "stdout",
          "text": [
            "469/469 [==============================] - 2s 5ms/step - loss: 0.0055 - accuracy: 0.9992 - val_loss: 0.1027 - val_accuracy: 0.9755\n",
            "Epoch 2/4\n",
            "469/469 [==============================] - 2s 4ms/step - loss: 0.0047 - accuracy: 0.9995 - val_loss: 0.1083 - val_accuracy: 0.9749\n",
            "Epoch 3/4\n",
            "469/469 [==============================] - 2s 4ms/step - loss: 0.0041 - accuracy: 0.9996 - val_loss: 0.1051 - val_accuracy: 0.9753\n",
            "Epoch 4/4\n",
            "469/469 [==============================] - 2s 4ms/step - loss: 0.0039 - accuracy: 0.9996 - val_loss: 0.1015 - val_accuracy: 0.9767\n",
            "79/79 [==============================] - 0s 3ms/step - loss: 0.1015 - accuracy: 0.9767\n",
            "Test Loss: 0.1014898344874382, Test Accuracy: 0.9767000079154968\n",
            "    Dense Layer Size  Batch Size  Epochs  Test Accuracy\n",
            "0               64.0        32.0     2.0         0.9522\n",
            "1               64.0        32.0     4.0         0.9703\n",
            "2               64.0        64.0     2.0         0.9728\n",
            "3               64.0        64.0     4.0         0.9738\n",
            "4              128.0        32.0     2.0         0.9745\n",
            "5              128.0        32.0     4.0         0.9768\n",
            "6              128.0        64.0     2.0         0.9751\n",
            "7              128.0        64.0     4.0         0.9744\n",
            "8              256.0        32.0     2.0         0.9751\n",
            "9              256.0        32.0     4.0         0.9750\n",
            "10             256.0        64.0     2.0         0.9765\n",
            "11             256.0        64.0     4.0         0.9767\n"
          ]
        },
        {
          "output_type": "stream",
          "name": "stderr",
          "text": [
            "<ipython-input-18-9f615c904829>:38: FutureWarning: The frame.append method is deprecated and will be removed from pandas in a future version. Use pandas.concat instead.\n",
            "  results_df = results_df.append({'Dense Layer Size': dense_size,\n"
          ]
        }
      ],
      "source": [
        "import pandas as pd\n",
        "\n",
        "# Create an empty DataFrame to store the results\n",
        "results_df = pd.DataFrame(columns=['Dense Layer Size', 'Batch Size', 'Epochs', 'Test Accuracy'])\n",
        "\n",
        "# Define the model without CNN layers\n",
        "model = models.Sequential([\n",
        "    layers.Flatten(input_shape=(28, 28, 1)),\n",
        "    layers.Dense(64, activation='relu'),  # Initial dense layer size\n",
        "    layers.Dense(10, activation='softmax')  # Output dense layer for 10 classes\n",
        "])\n",
        "\n",
        "# List of sizes to experiment with for the dense layer\n",
        "dense_sizes = [64, 128, 256]\n",
        "\n",
        "for dense_size in dense_sizes:\n",
        "    # Update the size of the dense layer\n",
        "    model.layers[1].units = dense_size\n",
        "\n",
        "    # Compile the model\n",
        "    model.compile(optimizer='adam',\n",
        "                  loss='sparse_categorical_crossentropy',\n",
        "                  metrics=['accuracy'])\n",
        "\n",
        "    # Assuming ds_train and ds_test are your preprocessed datasets\n",
        "    # Without repeating the training dataset\n",
        "    for batch_size in [32, 64]:\n",
        "        for epochs in [2, 4]:\n",
        "            print(f\"\\n\\nTraining with Dense Layer Size: {dense_size}, Batch Size: {batch_size}, Epochs: {epochs}\")\n",
        "\n",
        "            history = model.fit(ds_train, batch_size=batch_size, epochs=epochs, validation_data=ds_test)\n",
        "\n",
        "            # Evaluate the model on the test set\n",
        "            test_loss, test_accuracy = model.evaluate(ds_test)\n",
        "            print(f'Test Loss: {test_loss}, Test Accuracy: {test_accuracy}')\n",
        "\n",
        "            # Append the results to the DataFrame\n",
        "            results_df = results_df.append({'Dense Layer Size': dense_size,\n",
        "                                            'Batch Size': batch_size,\n",
        "                                            'Epochs': epochs,\n",
        "                                            'Test Accuracy': test_accuracy}, ignore_index=True)\n",
        "\n",
        "# Display the final DataFrame\n",
        "print(results_df)\n"
      ]
    },
    {
      "cell_type": "markdown",
      "id": "33074d17-e8bd-4ea3-aea9-329437d950c6",
      "metadata": {
        "id": "33074d17-e8bd-4ea3-aea9-329437d950c6"
      },
      "source": [
        "If you don't use any CNN layers and rely solely on dense layers for image classification tasks, your model might struggle to capture spatial hierarchies and local patterns present in images. CNNs are specifically designed to handle grid-like data, like images, by using convolutional and pooling layers to learn hierarchical features.\n",
        "\n",
        "Without CNN layers, the model might treat each pixel as an independent feature, not considering the spatial relationships between pixels. This can result in a significantly larger number of parameters, making the training process slower and more prone to overfitting. Additionally, the model might not generalize well to new, unseen images.\n",
        "\n",
        "In summary, while a model without CNN layers might work for simple tasks or datasets, it's generally less effective for image-related tasks compared to models that leverage convolutional layers."
      ]
    },
    {
      "cell_type": "markdown",
      "id": "86fc75bc-04f1-4f6c-a756-8c38aaf1cad3",
      "metadata": {
        "id": "86fc75bc-04f1-4f6c-a756-8c38aaf1cad3"
      },
      "source": [
        "### 6. Write a report on your observations on how the model performed with various experiments in step 5 and submit it along with the colab file."
      ]
    },
    {
      "cell_type": "markdown",
      "id": "bd0901ae-b05d-4f57-a679-57d471eb2d68",
      "metadata": {
        "tags": [],
        "id": "bd0901ae-b05d-4f57-a679-57d471eb2d68"
      },
      "source": []
    }
  ],
  "metadata": {
    "kernelspec": {
      "display_name": "Python 3",
      "name": "python3"
    },
    "language_info": {
      "codemirror_mode": {
        "name": "ipython",
        "version": 3
      },
      "file_extension": ".py",
      "mimetype": "text/x-python",
      "name": "python",
      "nbconvert_exporter": "python",
      "pygments_lexer": "ipython3",
      "version": "3.11.4"
    },
    "colab": {
      "provenance": [],
      "gpuType": "T4",
      "include_colab_link": true
    },
    "accelerator": "GPU",
    "widgets": {
      "application/vnd.jupyter.widget-state+json": {
        "f5cf061adc75453ca1d2e13d001d271a": {
          "model_module": "@jupyter-widgets/controls",
          "model_name": "HBoxModel",
          "model_module_version": "1.5.0",
          "state": {
            "_dom_classes": [],
            "_model_module": "@jupyter-widgets/controls",
            "_model_module_version": "1.5.0",
            "_model_name": "HBoxModel",
            "_view_count": null,
            "_view_module": "@jupyter-widgets/controls",
            "_view_module_version": "1.5.0",
            "_view_name": "HBoxView",
            "box_style": "",
            "children": [
              "IPY_MODEL_1a5b27bbe73e41409da7a224b0199ca7",
              "IPY_MODEL_5ea747523c974ec58d69346ceb016c69",
              "IPY_MODEL_6870fe65d95a478a96285ab7190c5f6b"
            ],
            "layout": "IPY_MODEL_b50d6f39101940dfb110f7a2bb3e6cc5"
          }
        },
        "1a5b27bbe73e41409da7a224b0199ca7": {
          "model_module": "@jupyter-widgets/controls",
          "model_name": "HTMLModel",
          "model_module_version": "1.5.0",
          "state": {
            "_dom_classes": [],
            "_model_module": "@jupyter-widgets/controls",
            "_model_module_version": "1.5.0",
            "_model_name": "HTMLModel",
            "_view_count": null,
            "_view_module": "@jupyter-widgets/controls",
            "_view_module_version": "1.5.0",
            "_view_name": "HTMLView",
            "description": "",
            "description_tooltip": null,
            "layout": "IPY_MODEL_c5e89addd8004ab38f737a6a9576000a",
            "placeholder": "​",
            "style": "IPY_MODEL_3ba5c72c52294a1298c1cf3495364e65",
            "value": "Dl Completed...: 100%"
          }
        },
        "5ea747523c974ec58d69346ceb016c69": {
          "model_module": "@jupyter-widgets/controls",
          "model_name": "FloatProgressModel",
          "model_module_version": "1.5.0",
          "state": {
            "_dom_classes": [],
            "_model_module": "@jupyter-widgets/controls",
            "_model_module_version": "1.5.0",
            "_model_name": "FloatProgressModel",
            "_view_count": null,
            "_view_module": "@jupyter-widgets/controls",
            "_view_module_version": "1.5.0",
            "_view_name": "ProgressView",
            "bar_style": "success",
            "description": "",
            "description_tooltip": null,
            "layout": "IPY_MODEL_b216a0a58edf4953a1501eef5e9231be",
            "max": 5,
            "min": 0,
            "orientation": "horizontal",
            "style": "IPY_MODEL_9b362c8a450647baa584cdfd6756a97a",
            "value": 5
          }
        },
        "6870fe65d95a478a96285ab7190c5f6b": {
          "model_module": "@jupyter-widgets/controls",
          "model_name": "HTMLModel",
          "model_module_version": "1.5.0",
          "state": {
            "_dom_classes": [],
            "_model_module": "@jupyter-widgets/controls",
            "_model_module_version": "1.5.0",
            "_model_name": "HTMLModel",
            "_view_count": null,
            "_view_module": "@jupyter-widgets/controls",
            "_view_module_version": "1.5.0",
            "_view_name": "HTMLView",
            "description": "",
            "description_tooltip": null,
            "layout": "IPY_MODEL_1f35d27594fa49a7993a6ac5bd1a7475",
            "placeholder": "​",
            "style": "IPY_MODEL_85c8e0fe42d1425ab4568da152c6c05e",
            "value": " 5/5 [00:00&lt;00:00, 12.94 file/s]"
          }
        },
        "b50d6f39101940dfb110f7a2bb3e6cc5": {
          "model_module": "@jupyter-widgets/base",
          "model_name": "LayoutModel",
          "model_module_version": "1.2.0",
          "state": {
            "_model_module": "@jupyter-widgets/base",
            "_model_module_version": "1.2.0",
            "_model_name": "LayoutModel",
            "_view_count": null,
            "_view_module": "@jupyter-widgets/base",
            "_view_module_version": "1.2.0",
            "_view_name": "LayoutView",
            "align_content": null,
            "align_items": null,
            "align_self": null,
            "border": null,
            "bottom": null,
            "display": null,
            "flex": null,
            "flex_flow": null,
            "grid_area": null,
            "grid_auto_columns": null,
            "grid_auto_flow": null,
            "grid_auto_rows": null,
            "grid_column": null,
            "grid_gap": null,
            "grid_row": null,
            "grid_template_areas": null,
            "grid_template_columns": null,
            "grid_template_rows": null,
            "height": null,
            "justify_content": null,
            "justify_items": null,
            "left": null,
            "margin": null,
            "max_height": null,
            "max_width": null,
            "min_height": null,
            "min_width": null,
            "object_fit": null,
            "object_position": null,
            "order": null,
            "overflow": null,
            "overflow_x": null,
            "overflow_y": null,
            "padding": null,
            "right": null,
            "top": null,
            "visibility": null,
            "width": null
          }
        },
        "c5e89addd8004ab38f737a6a9576000a": {
          "model_module": "@jupyter-widgets/base",
          "model_name": "LayoutModel",
          "model_module_version": "1.2.0",
          "state": {
            "_model_module": "@jupyter-widgets/base",
            "_model_module_version": "1.2.0",
            "_model_name": "LayoutModel",
            "_view_count": null,
            "_view_module": "@jupyter-widgets/base",
            "_view_module_version": "1.2.0",
            "_view_name": "LayoutView",
            "align_content": null,
            "align_items": null,
            "align_self": null,
            "border": null,
            "bottom": null,
            "display": null,
            "flex": null,
            "flex_flow": null,
            "grid_area": null,
            "grid_auto_columns": null,
            "grid_auto_flow": null,
            "grid_auto_rows": null,
            "grid_column": null,
            "grid_gap": null,
            "grid_row": null,
            "grid_template_areas": null,
            "grid_template_columns": null,
            "grid_template_rows": null,
            "height": null,
            "justify_content": null,
            "justify_items": null,
            "left": null,
            "margin": null,
            "max_height": null,
            "max_width": null,
            "min_height": null,
            "min_width": null,
            "object_fit": null,
            "object_position": null,
            "order": null,
            "overflow": null,
            "overflow_x": null,
            "overflow_y": null,
            "padding": null,
            "right": null,
            "top": null,
            "visibility": null,
            "width": null
          }
        },
        "3ba5c72c52294a1298c1cf3495364e65": {
          "model_module": "@jupyter-widgets/controls",
          "model_name": "DescriptionStyleModel",
          "model_module_version": "1.5.0",
          "state": {
            "_model_module": "@jupyter-widgets/controls",
            "_model_module_version": "1.5.0",
            "_model_name": "DescriptionStyleModel",
            "_view_count": null,
            "_view_module": "@jupyter-widgets/base",
            "_view_module_version": "1.2.0",
            "_view_name": "StyleView",
            "description_width": ""
          }
        },
        "b216a0a58edf4953a1501eef5e9231be": {
          "model_module": "@jupyter-widgets/base",
          "model_name": "LayoutModel",
          "model_module_version": "1.2.0",
          "state": {
            "_model_module": "@jupyter-widgets/base",
            "_model_module_version": "1.2.0",
            "_model_name": "LayoutModel",
            "_view_count": null,
            "_view_module": "@jupyter-widgets/base",
            "_view_module_version": "1.2.0",
            "_view_name": "LayoutView",
            "align_content": null,
            "align_items": null,
            "align_self": null,
            "border": null,
            "bottom": null,
            "display": null,
            "flex": null,
            "flex_flow": null,
            "grid_area": null,
            "grid_auto_columns": null,
            "grid_auto_flow": null,
            "grid_auto_rows": null,
            "grid_column": null,
            "grid_gap": null,
            "grid_row": null,
            "grid_template_areas": null,
            "grid_template_columns": null,
            "grid_template_rows": null,
            "height": null,
            "justify_content": null,
            "justify_items": null,
            "left": null,
            "margin": null,
            "max_height": null,
            "max_width": null,
            "min_height": null,
            "min_width": null,
            "object_fit": null,
            "object_position": null,
            "order": null,
            "overflow": null,
            "overflow_x": null,
            "overflow_y": null,
            "padding": null,
            "right": null,
            "top": null,
            "visibility": null,
            "width": null
          }
        },
        "9b362c8a450647baa584cdfd6756a97a": {
          "model_module": "@jupyter-widgets/controls",
          "model_name": "ProgressStyleModel",
          "model_module_version": "1.5.0",
          "state": {
            "_model_module": "@jupyter-widgets/controls",
            "_model_module_version": "1.5.0",
            "_model_name": "ProgressStyleModel",
            "_view_count": null,
            "_view_module": "@jupyter-widgets/base",
            "_view_module_version": "1.2.0",
            "_view_name": "StyleView",
            "bar_color": null,
            "description_width": ""
          }
        },
        "1f35d27594fa49a7993a6ac5bd1a7475": {
          "model_module": "@jupyter-widgets/base",
          "model_name": "LayoutModel",
          "model_module_version": "1.2.0",
          "state": {
            "_model_module": "@jupyter-widgets/base",
            "_model_module_version": "1.2.0",
            "_model_name": "LayoutModel",
            "_view_count": null,
            "_view_module": "@jupyter-widgets/base",
            "_view_module_version": "1.2.0",
            "_view_name": "LayoutView",
            "align_content": null,
            "align_items": null,
            "align_self": null,
            "border": null,
            "bottom": null,
            "display": null,
            "flex": null,
            "flex_flow": null,
            "grid_area": null,
            "grid_auto_columns": null,
            "grid_auto_flow": null,
            "grid_auto_rows": null,
            "grid_column": null,
            "grid_gap": null,
            "grid_row": null,
            "grid_template_areas": null,
            "grid_template_columns": null,
            "grid_template_rows": null,
            "height": null,
            "justify_content": null,
            "justify_items": null,
            "left": null,
            "margin": null,
            "max_height": null,
            "max_width": null,
            "min_height": null,
            "min_width": null,
            "object_fit": null,
            "object_position": null,
            "order": null,
            "overflow": null,
            "overflow_x": null,
            "overflow_y": null,
            "padding": null,
            "right": null,
            "top": null,
            "visibility": null,
            "width": null
          }
        },
        "85c8e0fe42d1425ab4568da152c6c05e": {
          "model_module": "@jupyter-widgets/controls",
          "model_name": "DescriptionStyleModel",
          "model_module_version": "1.5.0",
          "state": {
            "_model_module": "@jupyter-widgets/controls",
            "_model_module_version": "1.5.0",
            "_model_name": "DescriptionStyleModel",
            "_view_count": null,
            "_view_module": "@jupyter-widgets/base",
            "_view_module_version": "1.2.0",
            "_view_name": "StyleView",
            "description_width": ""
          }
        }
      }
    }
  },
  "nbformat": 4,
  "nbformat_minor": 5
}